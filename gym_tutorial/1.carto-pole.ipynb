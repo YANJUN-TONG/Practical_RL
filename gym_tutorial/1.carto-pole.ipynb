{
 "cells": [
  {
   "cell_type": "code",
   "execution_count": 1,
   "metadata": {
    "collapsed": true
   },
   "outputs": [],
   "source": [
    "import gym"
   ]
  },
  {
   "cell_type": "code",
   "execution_count": 2,
   "metadata": {
    "collapsed": true
   },
   "outputs": [],
   "source": [
    "# import matplotlib.pyplot as plt\n",
    "# %matplotlib inline\n",
    "# from IPython import display"
   ]
  },
  {
   "cell_type": "code",
   "execution_count": 3,
   "metadata": {
    "collapsed": false
   },
   "outputs": [
    {
     "data": {
      "text/plain": [
       "array([-0.01764267, -0.04609928,  0.03412325,  0.01160016])"
      ]
     },
     "execution_count": 3,
     "metadata": {},
     "output_type": "execute_result"
    }
   ],
   "source": [
    "env = gym.make('CartPole-v0')\n",
    "env.reset()"
   ]
  },
  {
   "cell_type": "code",
   "execution_count": 4,
   "metadata": {
    "collapsed": false
   },
   "outputs": [
    {
     "data": {
      "text/plain": [
       "array([  3.79271188e-02,   3.79701572e-02,   7.16189482e-05,\n",
       "         3.67268945e-02])"
      ]
     },
     "execution_count": 4,
     "metadata": {},
     "output_type": "execute_result"
    }
   ],
   "source": [
    "env.reset()"
   ]
  },
  {
   "cell_type": "code",
   "execution_count": 5,
   "metadata": {
    "collapsed": false,
    "scrolled": true
   },
   "outputs": [],
   "source": [
    "env.render()"
   ]
  },
  {
   "cell_type": "code",
   "execution_count": 6,
   "metadata": {
    "collapsed": false
   },
   "outputs": [],
   "source": [
    "# env.step(1)\n",
    "# env.render()"
   ]
  },
  {
   "cell_type": "code",
   "execution_count": 7,
   "metadata": {
    "collapsed": false
   },
   "outputs": [
    {
     "data": {
      "text/plain": [
       "Box(4,)"
      ]
     },
     "execution_count": 7,
     "metadata": {},
     "output_type": "execute_result"
    }
   ],
   "source": [
    "env.observation_space"
   ]
  },
  {
   "cell_type": "code",
   "execution_count": 88,
   "metadata": {
    "collapsed": false
   },
   "outputs": [
    {
     "data": {
      "text/plain": [
       "array([ 0.02123459,  0.02023707,  0.01058179,  0.00819424])"
      ]
     },
     "execution_count": 88,
     "metadata": {},
     "output_type": "execute_result"
    }
   ],
   "source": [
    "env = gym.make('CartPole-v0').unwrapped\n",
    "env.reset()"
   ]
  },
  {
   "cell_type": "code",
   "execution_count": 89,
   "metadata": {
    "collapsed": false,
    "scrolled": true
   },
   "outputs": [
    {
     "ename": "KeyboardInterrupt",
     "evalue": "",
     "output_type": "error",
     "traceback": [
      "\u001b[0;31m---------------------------------------------------------------------------\u001b[0m",
      "\u001b[0;31mKeyboardInterrupt\u001b[0m                         Traceback (most recent call last)",
      "\u001b[0;32m<ipython-input-89-4e34da0d8e72>\u001b[0m in \u001b[0;36m<module>\u001b[0;34m()\u001b[0m\n\u001b[1;32m      1\u001b[0m \u001b[0;32mfor\u001b[0m \u001b[0mi\u001b[0m \u001b[0;32min\u001b[0m \u001b[0mrange\u001b[0m\u001b[0;34m(\u001b[0m\u001b[0;36m2000\u001b[0m\u001b[0;34m)\u001b[0m\u001b[0;34m:\u001b[0m\u001b[0;34m\u001b[0m\u001b[0m\n\u001b[0;32m----> 2\u001b[0;31m     \u001b[0menv\u001b[0m\u001b[0;34m.\u001b[0m\u001b[0mrender\u001b[0m\u001b[0;34m(\u001b[0m\u001b[0;34m)\u001b[0m\u001b[0;34m\u001b[0m\u001b[0m\n\u001b[0m\u001b[1;32m      3\u001b[0m \u001b[0;31m#     env.step(env.action_space.sample()) # take a random action\u001b[0m\u001b[0;34m\u001b[0m\u001b[0;34m\u001b[0m\u001b[0m\n\u001b[1;32m      4\u001b[0m     \u001b[0menv\u001b[0m\u001b[0;34m.\u001b[0m\u001b[0mstep\u001b[0m\u001b[0;34m(\u001b[0m\u001b[0mi\u001b[0m\u001b[0;34m%\u001b[0m\u001b[0;36m2\u001b[0m\u001b[0;34m)\u001b[0m \u001b[0;31m# take a random action\u001b[0m\u001b[0;34m\u001b[0m\u001b[0m\n\u001b[1;32m      5\u001b[0m \u001b[0;31m#     print(env)\u001b[0m\u001b[0;34m\u001b[0m\u001b[0;34m\u001b[0m\u001b[0m\n",
      "\u001b[0;32m/home/jiancheng/anaconda3/lib/python3.5/site-packages/gym/core.py\u001b[0m in \u001b[0;36mrender\u001b[0;34m(self, mode, close)\u001b[0m\n\u001b[1;32m    148\u001b[0m             \u001b[0;32melif\u001b[0m \u001b[0mmode\u001b[0m \u001b[0;32mnot\u001b[0m \u001b[0;32min\u001b[0m \u001b[0mmodes\u001b[0m\u001b[0;34m:\u001b[0m\u001b[0;34m\u001b[0m\u001b[0m\n\u001b[1;32m    149\u001b[0m                 \u001b[0;32mraise\u001b[0m \u001b[0merror\u001b[0m\u001b[0;34m.\u001b[0m\u001b[0mUnsupportedMode\u001b[0m\u001b[0;34m(\u001b[0m\u001b[0;34m'Unsupported rendering mode: {}. (Supported modes for {}: {})'\u001b[0m\u001b[0;34m.\u001b[0m\u001b[0mformat\u001b[0m\u001b[0;34m(\u001b[0m\u001b[0mmode\u001b[0m\u001b[0;34m,\u001b[0m \u001b[0mself\u001b[0m\u001b[0;34m,\u001b[0m \u001b[0mmodes\u001b[0m\u001b[0;34m)\u001b[0m\u001b[0;34m)\u001b[0m\u001b[0;34m\u001b[0m\u001b[0m\n\u001b[0;32m--> 150\u001b[0;31m         \u001b[0;32mreturn\u001b[0m \u001b[0mself\u001b[0m\u001b[0;34m.\u001b[0m\u001b[0m_render\u001b[0m\u001b[0;34m(\u001b[0m\u001b[0mmode\u001b[0m\u001b[0;34m=\u001b[0m\u001b[0mmode\u001b[0m\u001b[0;34m,\u001b[0m \u001b[0mclose\u001b[0m\u001b[0;34m=\u001b[0m\u001b[0mclose\u001b[0m\u001b[0;34m)\u001b[0m\u001b[0;34m\u001b[0m\u001b[0m\n\u001b[0m\u001b[1;32m    151\u001b[0m \u001b[0;34m\u001b[0m\u001b[0m\n\u001b[1;32m    152\u001b[0m     \u001b[0;32mdef\u001b[0m \u001b[0mclose\u001b[0m\u001b[0;34m(\u001b[0m\u001b[0mself\u001b[0m\u001b[0;34m)\u001b[0m\u001b[0;34m:\u001b[0m\u001b[0;34m\u001b[0m\u001b[0m\n",
      "\u001b[0;32m/home/jiancheng/anaconda3/lib/python3.5/site-packages/gym/envs/classic_control/cartpole.py\u001b[0m in \u001b[0;36m_render\u001b[0;34m(self, mode, close)\u001b[0m\n\u001b[1;32m    144\u001b[0m         \u001b[0mself\u001b[0m\u001b[0;34m.\u001b[0m\u001b[0mpoletrans\u001b[0m\u001b[0;34m.\u001b[0m\u001b[0mset_rotation\u001b[0m\u001b[0;34m(\u001b[0m\u001b[0;34m-\u001b[0m\u001b[0mx\u001b[0m\u001b[0;34m[\u001b[0m\u001b[0;36m2\u001b[0m\u001b[0;34m]\u001b[0m\u001b[0;34m)\u001b[0m\u001b[0;34m\u001b[0m\u001b[0m\n\u001b[1;32m    145\u001b[0m \u001b[0;34m\u001b[0m\u001b[0m\n\u001b[0;32m--> 146\u001b[0;31m         \u001b[0;32mreturn\u001b[0m \u001b[0mself\u001b[0m\u001b[0;34m.\u001b[0m\u001b[0mviewer\u001b[0m\u001b[0;34m.\u001b[0m\u001b[0mrender\u001b[0m\u001b[0;34m(\u001b[0m\u001b[0mreturn_rgb_array\u001b[0m \u001b[0;34m=\u001b[0m \u001b[0mmode\u001b[0m\u001b[0;34m==\u001b[0m\u001b[0;34m'rgb_array'\u001b[0m\u001b[0;34m)\u001b[0m\u001b[0;34m\u001b[0m\u001b[0m\n\u001b[0m",
      "\u001b[0;32m/home/jiancheng/anaconda3/lib/python3.5/site-packages/gym/envs/classic_control/rendering.py\u001b[0m in \u001b[0;36mrender\u001b[0;34m(self, return_rgb_array)\u001b[0m\n\u001b[1;32m     80\u001b[0m     \u001b[0;32mdef\u001b[0m \u001b[0mrender\u001b[0m\u001b[0;34m(\u001b[0m\u001b[0mself\u001b[0m\u001b[0;34m,\u001b[0m \u001b[0mreturn_rgb_array\u001b[0m\u001b[0;34m=\u001b[0m\u001b[0;32mFalse\u001b[0m\u001b[0;34m)\u001b[0m\u001b[0;34m:\u001b[0m\u001b[0;34m\u001b[0m\u001b[0m\n\u001b[1;32m     81\u001b[0m         \u001b[0mglClearColor\u001b[0m\u001b[0;34m(\u001b[0m\u001b[0;36m1\u001b[0m\u001b[0;34m,\u001b[0m\u001b[0;36m1\u001b[0m\u001b[0;34m,\u001b[0m\u001b[0;36m1\u001b[0m\u001b[0;34m,\u001b[0m\u001b[0;36m1\u001b[0m\u001b[0;34m)\u001b[0m\u001b[0;34m\u001b[0m\u001b[0m\n\u001b[0;32m---> 82\u001b[0;31m         \u001b[0mself\u001b[0m\u001b[0;34m.\u001b[0m\u001b[0mwindow\u001b[0m\u001b[0;34m.\u001b[0m\u001b[0mclear\u001b[0m\u001b[0;34m(\u001b[0m\u001b[0;34m)\u001b[0m\u001b[0;34m\u001b[0m\u001b[0m\n\u001b[0m\u001b[1;32m     83\u001b[0m         \u001b[0mself\u001b[0m\u001b[0;34m.\u001b[0m\u001b[0mwindow\u001b[0m\u001b[0;34m.\u001b[0m\u001b[0mswitch_to\u001b[0m\u001b[0;34m(\u001b[0m\u001b[0;34m)\u001b[0m\u001b[0;34m\u001b[0m\u001b[0m\n\u001b[1;32m     84\u001b[0m         \u001b[0mself\u001b[0m\u001b[0;34m.\u001b[0m\u001b[0mwindow\u001b[0m\u001b[0;34m.\u001b[0m\u001b[0mdispatch_events\u001b[0m\u001b[0;34m(\u001b[0m\u001b[0;34m)\u001b[0m\u001b[0;34m\u001b[0m\u001b[0m\n",
      "\u001b[0;32m/home/jiancheng/anaconda3/lib/python3.5/site-packages/pyglet/window/__init__.py\u001b[0m in \u001b[0;36mclear\u001b[0;34m(self)\u001b[0m\n\u001b[1;32m   1214\u001b[0m         \u001b[0mbuffer\u001b[0m\u001b[0;34m.\u001b[0m  \u001b[0mThe\u001b[0m \u001b[0mwindow\u001b[0m \u001b[0mmust\u001b[0m \u001b[0mbe\u001b[0m \u001b[0mthe\u001b[0m \u001b[0mactive\u001b[0m \u001b[0mcontext\u001b[0m \u001b[0;34m(\u001b[0m\u001b[0msee\u001b[0m\u001b[0;31m \u001b[0m\u001b[0;31m`\u001b[0m\u001b[0mswitch_to\u001b[0m\u001b[0;31m`\u001b[0m\u001b[0;34m)\u001b[0m\u001b[0;34m.\u001b[0m\u001b[0;34m\u001b[0m\u001b[0m\n\u001b[1;32m   1215\u001b[0m         \"\"\"\n\u001b[0;32m-> 1216\u001b[0;31m         \u001b[0mgl\u001b[0m\u001b[0;34m.\u001b[0m\u001b[0mglClear\u001b[0m\u001b[0;34m(\u001b[0m\u001b[0mgl\u001b[0m\u001b[0;34m.\u001b[0m\u001b[0mGL_COLOR_BUFFER_BIT\u001b[0m \u001b[0;34m|\u001b[0m \u001b[0mgl\u001b[0m\u001b[0;34m.\u001b[0m\u001b[0mGL_DEPTH_BUFFER_BIT\u001b[0m\u001b[0;34m)\u001b[0m\u001b[0;34m\u001b[0m\u001b[0m\n\u001b[0m\u001b[1;32m   1217\u001b[0m \u001b[0;34m\u001b[0m\u001b[0m\n\u001b[1;32m   1218\u001b[0m     \u001b[0;32mdef\u001b[0m \u001b[0mdispatch_event\u001b[0m\u001b[0;34m(\u001b[0m\u001b[0mself\u001b[0m\u001b[0;34m,\u001b[0m \u001b[0;34m*\u001b[0m\u001b[0margs\u001b[0m\u001b[0;34m)\u001b[0m\u001b[0;34m:\u001b[0m\u001b[0;34m\u001b[0m\u001b[0m\n",
      "\u001b[0;32m/home/jiancheng/anaconda3/lib/python3.5/site-packages/pyglet/gl/lib.py\u001b[0m in \u001b[0;36merrcheck\u001b[0;34m(result, func, arguments)\u001b[0m\n\u001b[1;32m     83\u001b[0m     \u001b[0;32mpass\u001b[0m\u001b[0;34m\u001b[0m\u001b[0m\n\u001b[1;32m     84\u001b[0m \u001b[0;34m\u001b[0m\u001b[0m\n\u001b[0;32m---> 85\u001b[0;31m \u001b[0;32mdef\u001b[0m \u001b[0merrcheck\u001b[0m\u001b[0;34m(\u001b[0m\u001b[0mresult\u001b[0m\u001b[0;34m,\u001b[0m \u001b[0mfunc\u001b[0m\u001b[0;34m,\u001b[0m \u001b[0marguments\u001b[0m\u001b[0;34m)\u001b[0m\u001b[0;34m:\u001b[0m\u001b[0;34m\u001b[0m\u001b[0m\n\u001b[0m\u001b[1;32m     86\u001b[0m     \u001b[0;32mif\u001b[0m \u001b[0m_debug_gl_trace\u001b[0m\u001b[0;34m:\u001b[0m\u001b[0;34m\u001b[0m\u001b[0m\n\u001b[1;32m     87\u001b[0m         \u001b[0;32mtry\u001b[0m\u001b[0;34m:\u001b[0m\u001b[0;34m\u001b[0m\u001b[0m\n",
      "\u001b[0;31mKeyboardInterrupt\u001b[0m: "
     ]
    }
   ],
   "source": [
    "for i in range(2000):\n",
    "    env.render()\n",
    "#     env.step(env.action_space.sample()) # take a random action\n",
    "    env.step(i%2) # take a random action\n",
    "#     print(env)"
   ]
  },
  {
   "cell_type": "code",
   "execution_count": 9,
   "metadata": {
    "collapsed": false
   },
   "outputs": [
    {
     "data": {
      "text/plain": [
       "0"
      ]
     },
     "execution_count": 9,
     "metadata": {},
     "output_type": "execute_result"
    }
   ],
   "source": [
    "env.action_space.sample()"
   ]
  },
  {
   "cell_type": "code",
   "execution_count": 10,
   "metadata": {
    "collapsed": false
   },
   "outputs": [],
   "source": [
    "env.render()"
   ]
  },
  {
   "cell_type": "code",
   "execution_count": 12,
   "metadata": {
    "collapsed": false
   },
   "outputs": [
    {
     "name": "stdout",
     "output_type": "stream",
     "text": [
      "Discrete(9)\n"
     ]
    }
   ],
   "source": [
    "env = gym.make('MsPacman-v0')\n",
    "env.reset()\n",
    "print(env.action_space)\n",
    "for i in range(2000):\n",
    "    env.render()\n",
    "    env.step(env.action_space.sample()) # take a random action"
   ]
  },
  {
   "cell_type": "code",
   "execution_count": 13,
   "metadata": {
    "collapsed": false,
    "scrolled": true
   },
   "outputs": [
    {
     "ename": "MujocoDependencyError",
     "evalue": "To use MuJoCo, you need to either populate ~/.mujoco/mjkey.txt and ~/.mujoco/mjpro131, or set the MUJOCO_PY_MJKEY_PATH and MUJOCO_PY_MJPRO_PATH environment variables appropriately. Follow the instructions on https://github.com/openai/mujoco-py for where to obtain these.",
     "output_type": "error",
     "traceback": [
      "\u001b[0;31m---------------------------------------------------------------------------\u001b[0m",
      "\u001b[0;31mMujocoDependencyError\u001b[0m                     Traceback (most recent call last)",
      "\u001b[0;32m<ipython-input-13-eb891b686971>\u001b[0m in \u001b[0;36m<module>\u001b[0;34m()\u001b[0m\n\u001b[0;32m----> 1\u001b[0;31m \u001b[0menv\u001b[0m \u001b[0;34m=\u001b[0m \u001b[0mgym\u001b[0m\u001b[0;34m.\u001b[0m\u001b[0mmake\u001b[0m\u001b[0;34m(\u001b[0m\u001b[0;34m'Hopper-v1'\u001b[0m\u001b[0;34m)\u001b[0m\u001b[0;34m\u001b[0m\u001b[0m\n\u001b[0m\u001b[1;32m      2\u001b[0m \u001b[0menv\u001b[0m\u001b[0;34m.\u001b[0m\u001b[0mreset\u001b[0m\u001b[0;34m(\u001b[0m\u001b[0;34m)\u001b[0m\u001b[0;34m\u001b[0m\u001b[0m\n\u001b[1;32m      3\u001b[0m \u001b[0mprint\u001b[0m\u001b[0;34m(\u001b[0m\u001b[0menv\u001b[0m\u001b[0;34m.\u001b[0m\u001b[0maction_space\u001b[0m\u001b[0;34m)\u001b[0m\u001b[0;34m\u001b[0m\u001b[0m\n\u001b[1;32m      4\u001b[0m \u001b[0;32mfor\u001b[0m \u001b[0mi\u001b[0m \u001b[0;32min\u001b[0m \u001b[0mrange\u001b[0m\u001b[0;34m(\u001b[0m\u001b[0;36m2000\u001b[0m\u001b[0;34m)\u001b[0m\u001b[0;34m:\u001b[0m\u001b[0;34m\u001b[0m\u001b[0m\n\u001b[1;32m      5\u001b[0m     \u001b[0menv\u001b[0m\u001b[0;34m.\u001b[0m\u001b[0mrender\u001b[0m\u001b[0;34m(\u001b[0m\u001b[0;34m)\u001b[0m\u001b[0;34m\u001b[0m\u001b[0m\n",
      "\u001b[0;32m/home/jiancheng/anaconda3/lib/python3.5/site-packages/gym/envs/registration.py\u001b[0m in \u001b[0;36mmake\u001b[0;34m(id)\u001b[0m\n\u001b[1;32m    162\u001b[0m \u001b[0;34m\u001b[0m\u001b[0m\n\u001b[1;32m    163\u001b[0m \u001b[0;32mdef\u001b[0m \u001b[0mmake\u001b[0m\u001b[0;34m(\u001b[0m\u001b[0mid\u001b[0m\u001b[0;34m)\u001b[0m\u001b[0;34m:\u001b[0m\u001b[0;34m\u001b[0m\u001b[0m\n\u001b[0;32m--> 164\u001b[0;31m     \u001b[0;32mreturn\u001b[0m \u001b[0mregistry\u001b[0m\u001b[0;34m.\u001b[0m\u001b[0mmake\u001b[0m\u001b[0;34m(\u001b[0m\u001b[0mid\u001b[0m\u001b[0;34m)\u001b[0m\u001b[0;34m\u001b[0m\u001b[0m\n\u001b[0m\u001b[1;32m    165\u001b[0m \u001b[0;34m\u001b[0m\u001b[0m\n\u001b[1;32m    166\u001b[0m \u001b[0;32mdef\u001b[0m \u001b[0mspec\u001b[0m\u001b[0;34m(\u001b[0m\u001b[0mid\u001b[0m\u001b[0;34m)\u001b[0m\u001b[0;34m:\u001b[0m\u001b[0;34m\u001b[0m\u001b[0m\n",
      "\u001b[0;32m/home/jiancheng/anaconda3/lib/python3.5/site-packages/gym/envs/registration.py\u001b[0m in \u001b[0;36mmake\u001b[0;34m(self, id)\u001b[0m\n\u001b[1;32m    120\u001b[0m         \u001b[0mlogger\u001b[0m\u001b[0;34m.\u001b[0m\u001b[0minfo\u001b[0m\u001b[0;34m(\u001b[0m\u001b[0;34m'Making new env: %s'\u001b[0m\u001b[0;34m,\u001b[0m \u001b[0mid\u001b[0m\u001b[0;34m)\u001b[0m\u001b[0;34m\u001b[0m\u001b[0m\n\u001b[1;32m    121\u001b[0m         \u001b[0mspec\u001b[0m \u001b[0;34m=\u001b[0m \u001b[0mself\u001b[0m\u001b[0;34m.\u001b[0m\u001b[0mspec\u001b[0m\u001b[0;34m(\u001b[0m\u001b[0mid\u001b[0m\u001b[0;34m)\u001b[0m\u001b[0;34m\u001b[0m\u001b[0m\n\u001b[0;32m--> 122\u001b[0;31m         \u001b[0menv\u001b[0m \u001b[0;34m=\u001b[0m \u001b[0mspec\u001b[0m\u001b[0;34m.\u001b[0m\u001b[0mmake\u001b[0m\u001b[0;34m(\u001b[0m\u001b[0;34m)\u001b[0m\u001b[0;34m\u001b[0m\u001b[0m\n\u001b[0m\u001b[1;32m    123\u001b[0m         \u001b[0;32mif\u001b[0m \u001b[0;34m(\u001b[0m\u001b[0menv\u001b[0m\u001b[0;34m.\u001b[0m\u001b[0mspec\u001b[0m\u001b[0;34m.\u001b[0m\u001b[0mtimestep_limit\u001b[0m \u001b[0;32mis\u001b[0m \u001b[0;32mnot\u001b[0m \u001b[0;32mNone\u001b[0m\u001b[0;34m)\u001b[0m \u001b[0;32mand\u001b[0m \u001b[0;32mnot\u001b[0m \u001b[0mspec\u001b[0m\u001b[0;34m.\u001b[0m\u001b[0mtags\u001b[0m\u001b[0;34m.\u001b[0m\u001b[0mget\u001b[0m\u001b[0;34m(\u001b[0m\u001b[0;34m'vnc'\u001b[0m\u001b[0;34m)\u001b[0m\u001b[0;34m:\u001b[0m\u001b[0;34m\u001b[0m\u001b[0m\n\u001b[1;32m    124\u001b[0m             \u001b[0;32mfrom\u001b[0m \u001b[0mgym\u001b[0m\u001b[0;34m.\u001b[0m\u001b[0mwrappers\u001b[0m\u001b[0;34m.\u001b[0m\u001b[0mtime_limit\u001b[0m \u001b[0;32mimport\u001b[0m \u001b[0mTimeLimit\u001b[0m\u001b[0;34m\u001b[0m\u001b[0m\n",
      "\u001b[0;32m/home/jiancheng/anaconda3/lib/python3.5/site-packages/gym/envs/registration.py\u001b[0m in \u001b[0;36mmake\u001b[0;34m(self)\u001b[0m\n\u001b[1;32m     86\u001b[0m             \u001b[0menv\u001b[0m \u001b[0;34m=\u001b[0m \u001b[0mself\u001b[0m\u001b[0;34m.\u001b[0m\u001b[0m_entry_point\u001b[0m\u001b[0;34m(\u001b[0m\u001b[0;34m)\u001b[0m\u001b[0;34m\u001b[0m\u001b[0m\n\u001b[1;32m     87\u001b[0m         \u001b[0;32melse\u001b[0m\u001b[0;34m:\u001b[0m\u001b[0;34m\u001b[0m\u001b[0m\n\u001b[0;32m---> 88\u001b[0;31m             \u001b[0mcls\u001b[0m \u001b[0;34m=\u001b[0m \u001b[0mload\u001b[0m\u001b[0;34m(\u001b[0m\u001b[0mself\u001b[0m\u001b[0;34m.\u001b[0m\u001b[0m_entry_point\u001b[0m\u001b[0;34m)\u001b[0m\u001b[0;34m\u001b[0m\u001b[0m\n\u001b[0m\u001b[1;32m     89\u001b[0m             \u001b[0menv\u001b[0m \u001b[0;34m=\u001b[0m \u001b[0mcls\u001b[0m\u001b[0;34m(\u001b[0m\u001b[0;34m**\u001b[0m\u001b[0mself\u001b[0m\u001b[0;34m.\u001b[0m\u001b[0m_kwargs\u001b[0m\u001b[0;34m)\u001b[0m\u001b[0;34m\u001b[0m\u001b[0m\n\u001b[1;32m     90\u001b[0m \u001b[0;34m\u001b[0m\u001b[0m\n",
      "\u001b[0;32m/home/jiancheng/anaconda3/lib/python3.5/site-packages/gym/envs/registration.py\u001b[0m in \u001b[0;36mload\u001b[0;34m(name)\u001b[0m\n\u001b[1;32m     15\u001b[0m \u001b[0;32mdef\u001b[0m \u001b[0mload\u001b[0m\u001b[0;34m(\u001b[0m\u001b[0mname\u001b[0m\u001b[0;34m)\u001b[0m\u001b[0;34m:\u001b[0m\u001b[0;34m\u001b[0m\u001b[0m\n\u001b[1;32m     16\u001b[0m     \u001b[0mentry_point\u001b[0m \u001b[0;34m=\u001b[0m \u001b[0mpkg_resources\u001b[0m\u001b[0;34m.\u001b[0m\u001b[0mEntryPoint\u001b[0m\u001b[0;34m.\u001b[0m\u001b[0mparse\u001b[0m\u001b[0;34m(\u001b[0m\u001b[0;34m'x={}'\u001b[0m\u001b[0;34m.\u001b[0m\u001b[0mformat\u001b[0m\u001b[0;34m(\u001b[0m\u001b[0mname\u001b[0m\u001b[0;34m)\u001b[0m\u001b[0;34m)\u001b[0m\u001b[0;34m\u001b[0m\u001b[0m\n\u001b[0;32m---> 17\u001b[0;31m     \u001b[0mresult\u001b[0m \u001b[0;34m=\u001b[0m \u001b[0mentry_point\u001b[0m\u001b[0;34m.\u001b[0m\u001b[0mload\u001b[0m\u001b[0;34m(\u001b[0m\u001b[0;32mFalse\u001b[0m\u001b[0;34m)\u001b[0m\u001b[0;34m\u001b[0m\u001b[0m\n\u001b[0m\u001b[1;32m     18\u001b[0m     \u001b[0;32mreturn\u001b[0m \u001b[0mresult\u001b[0m\u001b[0;34m\u001b[0m\u001b[0m\n\u001b[1;32m     19\u001b[0m \u001b[0;34m\u001b[0m\u001b[0m\n",
      "\u001b[0;32m/home/jiancheng/anaconda3/lib/python3.5/site-packages/pkg_resources/__init__.py\u001b[0m in \u001b[0;36mload\u001b[0;34m(self, require, *args, **kwargs)\u001b[0m\n\u001b[1;32m   2420\u001b[0m         \u001b[0;32mif\u001b[0m \u001b[0mrequire\u001b[0m\u001b[0;34m:\u001b[0m\u001b[0;34m\u001b[0m\u001b[0m\n\u001b[1;32m   2421\u001b[0m             \u001b[0mself\u001b[0m\u001b[0;34m.\u001b[0m\u001b[0mrequire\u001b[0m\u001b[0;34m(\u001b[0m\u001b[0;34m*\u001b[0m\u001b[0margs\u001b[0m\u001b[0;34m,\u001b[0m \u001b[0;34m**\u001b[0m\u001b[0mkwargs\u001b[0m\u001b[0;34m)\u001b[0m\u001b[0;34m\u001b[0m\u001b[0m\n\u001b[0;32m-> 2422\u001b[0;31m         \u001b[0;32mreturn\u001b[0m \u001b[0mself\u001b[0m\u001b[0;34m.\u001b[0m\u001b[0mresolve\u001b[0m\u001b[0;34m(\u001b[0m\u001b[0;34m)\u001b[0m\u001b[0;34m\u001b[0m\u001b[0m\n\u001b[0m\u001b[1;32m   2423\u001b[0m \u001b[0;34m\u001b[0m\u001b[0m\n\u001b[1;32m   2424\u001b[0m     \u001b[0;32mdef\u001b[0m \u001b[0mresolve\u001b[0m\u001b[0;34m(\u001b[0m\u001b[0mself\u001b[0m\u001b[0;34m)\u001b[0m\u001b[0;34m:\u001b[0m\u001b[0;34m\u001b[0m\u001b[0m\n",
      "\u001b[0;32m/home/jiancheng/anaconda3/lib/python3.5/site-packages/pkg_resources/__init__.py\u001b[0m in \u001b[0;36mresolve\u001b[0;34m(self)\u001b[0m\n\u001b[1;32m   2426\u001b[0m         \u001b[0mResolve\u001b[0m \u001b[0mthe\u001b[0m \u001b[0mentry\u001b[0m \u001b[0mpoint\u001b[0m \u001b[0;32mfrom\u001b[0m \u001b[0mits\u001b[0m \u001b[0mmodule\u001b[0m \u001b[0;32mand\u001b[0m \u001b[0mattrs\u001b[0m\u001b[0;34m.\u001b[0m\u001b[0;34m\u001b[0m\u001b[0m\n\u001b[1;32m   2427\u001b[0m         \"\"\"\n\u001b[0;32m-> 2428\u001b[0;31m         \u001b[0mmodule\u001b[0m \u001b[0;34m=\u001b[0m \u001b[0m__import__\u001b[0m\u001b[0;34m(\u001b[0m\u001b[0mself\u001b[0m\u001b[0;34m.\u001b[0m\u001b[0mmodule_name\u001b[0m\u001b[0;34m,\u001b[0m \u001b[0mfromlist\u001b[0m\u001b[0;34m=\u001b[0m\u001b[0;34m[\u001b[0m\u001b[0;34m'__name__'\u001b[0m\u001b[0;34m]\u001b[0m\u001b[0;34m,\u001b[0m \u001b[0mlevel\u001b[0m\u001b[0;34m=\u001b[0m\u001b[0;36m0\u001b[0m\u001b[0;34m)\u001b[0m\u001b[0;34m\u001b[0m\u001b[0m\n\u001b[0m\u001b[1;32m   2429\u001b[0m         \u001b[0;32mtry\u001b[0m\u001b[0;34m:\u001b[0m\u001b[0;34m\u001b[0m\u001b[0m\n\u001b[1;32m   2430\u001b[0m             \u001b[0;32mreturn\u001b[0m \u001b[0mfunctools\u001b[0m\u001b[0;34m.\u001b[0m\u001b[0mreduce\u001b[0m\u001b[0;34m(\u001b[0m\u001b[0mgetattr\u001b[0m\u001b[0;34m,\u001b[0m \u001b[0mself\u001b[0m\u001b[0;34m.\u001b[0m\u001b[0mattrs\u001b[0m\u001b[0;34m,\u001b[0m \u001b[0mmodule\u001b[0m\u001b[0;34m)\u001b[0m\u001b[0;34m\u001b[0m\u001b[0m\n",
      "\u001b[0;32m/home/jiancheng/anaconda3/lib/python3.5/site-packages/gym/envs/mujoco/__init__.py\u001b[0m in \u001b[0;36m<module>\u001b[0;34m()\u001b[0m\n\u001b[0;32m----> 1\u001b[0;31m \u001b[0;32mfrom\u001b[0m \u001b[0mgym\u001b[0m\u001b[0;34m.\u001b[0m\u001b[0menvs\u001b[0m\u001b[0;34m.\u001b[0m\u001b[0mmujoco\u001b[0m\u001b[0;34m.\u001b[0m\u001b[0mmujoco_env\u001b[0m \u001b[0;32mimport\u001b[0m \u001b[0mMujocoEnv\u001b[0m\u001b[0;34m\u001b[0m\u001b[0m\n\u001b[0m\u001b[1;32m      2\u001b[0m \u001b[0;31m# ^^^^^ so that user gets the correct error\u001b[0m\u001b[0;34m\u001b[0m\u001b[0;34m\u001b[0m\u001b[0m\n\u001b[1;32m      3\u001b[0m \u001b[0;31m# message if mujoco is not installed correctly\u001b[0m\u001b[0;34m\u001b[0m\u001b[0;34m\u001b[0m\u001b[0m\n\u001b[1;32m      4\u001b[0m \u001b[0;32mfrom\u001b[0m \u001b[0mgym\u001b[0m\u001b[0;34m.\u001b[0m\u001b[0menvs\u001b[0m\u001b[0;34m.\u001b[0m\u001b[0mmujoco\u001b[0m\u001b[0;34m.\u001b[0m\u001b[0mant\u001b[0m \u001b[0;32mimport\u001b[0m \u001b[0mAntEnv\u001b[0m\u001b[0;34m\u001b[0m\u001b[0m\n\u001b[1;32m      5\u001b[0m \u001b[0;32mfrom\u001b[0m \u001b[0mgym\u001b[0m\u001b[0;34m.\u001b[0m\u001b[0menvs\u001b[0m\u001b[0;34m.\u001b[0m\u001b[0mmujoco\u001b[0m\u001b[0;34m.\u001b[0m\u001b[0mhalf_cheetah\u001b[0m \u001b[0;32mimport\u001b[0m \u001b[0mHalfCheetahEnv\u001b[0m\u001b[0;34m\u001b[0m\u001b[0m\n",
      "\u001b[0;32m/home/jiancheng/anaconda3/lib/python3.5/site-packages/gym/envs/mujoco/mujoco_env.py\u001b[0m in \u001b[0;36m<module>\u001b[0;34m()\u001b[0m\n\u001b[1;32m      9\u001b[0m \u001b[0;34m\u001b[0m\u001b[0m\n\u001b[1;32m     10\u001b[0m \u001b[0;32mtry\u001b[0m\u001b[0;34m:\u001b[0m\u001b[0;34m\u001b[0m\u001b[0m\n\u001b[0;32m---> 11\u001b[0;31m     \u001b[0;32mimport\u001b[0m \u001b[0mmujoco_py\u001b[0m\u001b[0;34m\u001b[0m\u001b[0m\n\u001b[0m\u001b[1;32m     12\u001b[0m     \u001b[0;32mfrom\u001b[0m \u001b[0mmujoco_py\u001b[0m\u001b[0;34m.\u001b[0m\u001b[0mmjlib\u001b[0m \u001b[0;32mimport\u001b[0m \u001b[0mmjlib\u001b[0m\u001b[0;34m\u001b[0m\u001b[0m\n\u001b[1;32m     13\u001b[0m \u001b[0;32mexcept\u001b[0m \u001b[0mImportError\u001b[0m \u001b[0;32mas\u001b[0m \u001b[0me\u001b[0m\u001b[0;34m:\u001b[0m\u001b[0;34m\u001b[0m\u001b[0m\n",
      "\u001b[0;32m/home/jiancheng/anaconda3/lib/python3.5/site-packages/mujoco_py/__init__.py\u001b[0m in \u001b[0;36m<module>\u001b[0;34m()\u001b[0m\n\u001b[1;32m      1\u001b[0m \u001b[0;32mfrom\u001b[0m \u001b[0;34m.\u001b[0m\u001b[0mconfig\u001b[0m \u001b[0;32mimport\u001b[0m \u001b[0minit_config\u001b[0m\u001b[0;34m,\u001b[0m \u001b[0mget_key_path\u001b[0m\u001b[0;34m\u001b[0m\u001b[0m\n\u001b[0;32m----> 2\u001b[0;31m \u001b[0minit_config\u001b[0m\u001b[0;34m(\u001b[0m\u001b[0;34m)\u001b[0m\u001b[0;34m\u001b[0m\u001b[0m\n\u001b[0m\u001b[1;32m      3\u001b[0m \u001b[0;34m\u001b[0m\u001b[0m\n\u001b[1;32m      4\u001b[0m \u001b[0;32mfrom\u001b[0m \u001b[0;34m.\u001b[0m\u001b[0mmjviewer\u001b[0m \u001b[0;32mimport\u001b[0m \u001b[0mMjViewer\u001b[0m\u001b[0;34m\u001b[0m\u001b[0m\n\u001b[1;32m      5\u001b[0m \u001b[0;32mfrom\u001b[0m \u001b[0;34m.\u001b[0m\u001b[0mmjcore\u001b[0m \u001b[0;32mimport\u001b[0m \u001b[0mMjModel\u001b[0m\u001b[0;34m\u001b[0m\u001b[0m\n",
      "\u001b[0;32m/home/jiancheng/anaconda3/lib/python3.5/site-packages/mujoco_py/config.py\u001b[0m in \u001b[0;36minit_config\u001b[0;34m()\u001b[0m\n\u001b[1;32m     31\u001b[0m \u001b[0;34m\u001b[0m\u001b[0m\n\u001b[1;32m     32\u001b[0m     \u001b[0;32mif\u001b[0m \u001b[0;32mnot\u001b[0m \u001b[0m_key_path\u001b[0m \u001b[0;32mand\u001b[0m \u001b[0;32mnot\u001b[0m \u001b[0mmjpro_path\u001b[0m\u001b[0;34m:\u001b[0m\u001b[0;34m\u001b[0m\u001b[0m\n\u001b[0;32m---> 33\u001b[0;31m         \u001b[0;32mraise\u001b[0m \u001b[0merror\u001b[0m\u001b[0;34m.\u001b[0m\u001b[0mMujocoDependencyError\u001b[0m\u001b[0;34m(\u001b[0m\u001b[0;34m'To use MuJoCo, you need to either populate ~/.mujoco/mjkey.txt and ~/.mujoco/mjpro131, or set the MUJOCO_PY_MJKEY_PATH and MUJOCO_PY_MJPRO_PATH environment variables appropriately. Follow the instructions on https://github.com/openai/mujoco-py for where to obtain these.'\u001b[0m\u001b[0;34m)\u001b[0m\u001b[0;34m\u001b[0m\u001b[0m\n\u001b[0m\u001b[1;32m     34\u001b[0m     \u001b[0;32melif\u001b[0m \u001b[0;32mnot\u001b[0m \u001b[0m_key_path\u001b[0m\u001b[0;34m:\u001b[0m\u001b[0;34m\u001b[0m\u001b[0m\n\u001b[1;32m     35\u001b[0m         \u001b[0;32mraise\u001b[0m \u001b[0merror\u001b[0m\u001b[0;34m.\u001b[0m\u001b[0mMujocoDependencyError\u001b[0m\u001b[0;34m(\u001b[0m\u001b[0;34m'Found your MuJoCo binaries but not license key. Please put your key into ~/.mujoco/mjkey.txt or set MUJOCO_PY_MJKEY_PATH. Follow the instructions on https://github.com/openai/mujoco-py for setup.'\u001b[0m\u001b[0;34m)\u001b[0m\u001b[0;34m\u001b[0m\u001b[0m\n",
      "\u001b[0;31mMujocoDependencyError\u001b[0m: To use MuJoCo, you need to either populate ~/.mujoco/mjkey.txt and ~/.mujoco/mjpro131, or set the MUJOCO_PY_MJKEY_PATH and MUJOCO_PY_MJPRO_PATH environment variables appropriately. Follow the instructions on https://github.com/openai/mujoco-py for where to obtain these."
     ]
    }
   ],
   "source": [
    "env = gym.make('Hopper-v1')\n",
    "env.reset()\n",
    "print(env.action_space)\n",
    "for i in range(2000):\n",
    "    env.render()\n",
    "    env.step(env.action_space.sample()) # take a random action"
   ]
  },
  {
   "cell_type": "code",
   "execution_count": 14,
   "metadata": {
    "collapsed": false
   },
   "outputs": [
    {
     "data": {
      "text/plain": [
       "array([-0.00528592, -0.00294154,  0.00645976, -0.03446867])"
      ]
     },
     "execution_count": 14,
     "metadata": {},
     "output_type": "execute_result"
    }
   ],
   "source": [
    "env = gym.make('CartPole-v0')\n",
    "env.reset()"
   ]
  },
  {
   "cell_type": "code",
   "execution_count": 18,
   "metadata": {
    "collapsed": false
   },
   "outputs": [
    {
     "data": {
      "text/plain": [
       "True"
      ]
     },
     "execution_count": 18,
     "metadata": {},
     "output_type": "execute_result"
    }
   ],
   "source": [
    "done"
   ]
  },
  {
   "cell_type": "code",
   "execution_count": 32,
   "metadata": {
    "collapsed": false
   },
   "outputs": [
    {
     "data": {
      "text/plain": [
       "0"
      ]
     },
     "execution_count": 32,
     "metadata": {},
     "output_type": "execute_result"
    }
   ],
   "source": [
    "env.action_space.sample()"
   ]
  },
  {
   "cell_type": "code",
   "execution_count": 39,
   "metadata": {
    "collapsed": false
   },
   "outputs": [
    {
     "data": {
      "text/plain": [
       "{'render.modes': ['human', 'rgb_array'], 'video.frames_per_second': 50}"
      ]
     },
     "execution_count": 39,
     "metadata": {},
     "output_type": "execute_result"
    }
   ],
   "source": [
    "env.metadata"
   ]
  },
  {
   "cell_type": "code",
   "execution_count": 41,
   "metadata": {
    "collapsed": false
   },
   "outputs": [
    {
     "data": {
      "text/plain": [
       "EnvSpec(CartPole-v0)"
      ]
     },
     "execution_count": 41,
     "metadata": {},
     "output_type": "execute_result"
    }
   ],
   "source": [
    "env.spec"
   ]
  },
  {
   "cell_type": "code",
   "execution_count": 50,
   "metadata": {
    "collapsed": false
   },
   "outputs": [
    {
     "data": {
      "text/plain": [
       "[2001]"
      ]
     },
     "execution_count": 50,
     "metadata": {},
     "output_type": "execute_result"
    }
   ],
   "source": [
    "env.seed(2001)"
   ]
  },
  {
   "cell_type": "code",
   "execution_count": 90,
   "metadata": {
    "collapsed": false,
    "scrolled": true
   },
   "outputs": [
    {
     "name": "stdout",
     "output_type": "stream",
     "text": [
      "[ 0.02380377  0.00280387 -0.00204937 -0.04555478]\n",
      "None None None\n",
      "[ 0.02385985 -0.19228863 -0.00296047  0.24648085]\n",
      "1.0 False {}\n",
      "[ 0.02001408  0.00287548  0.00196915 -0.04713441]\n",
      "1.0 False {}\n",
      "[ 0.02007159  0.19796913  0.00102646 -0.3391954 ]\n",
      "1.0 False {}\n",
      "[ 0.02403097  0.39307647 -0.00575745 -0.63155446]\n",
      "1.0 False {}\n",
      "[ 0.0318925   0.58827827 -0.01838854 -0.926045  ]\n",
      "1.0 False {}\n",
      "[ 0.04365807  0.78364366 -0.03690944 -1.22444947]\n",
      "1.0 False {}\n",
      "[ 0.05933094  0.58901598 -0.06139842 -0.94355569]\n",
      "1.0 False {}\n",
      "[ 0.07111126  0.784909   -0.08026954 -1.25488134]\n",
      "1.0 False {}\n",
      "[ 0.08680944  0.98096178 -0.10536717 -1.57158752]\n",
      "1.0 False {}\n",
      "[ 0.10642867  1.17717146 -0.13679892 -1.89519043]\n",
      "1.0 False {}\n",
      "[ 0.1299721   1.37348591 -0.17470272 -2.22700459]\n",
      "1.0 False {}\n",
      "Episode finished after 12 timesteps\n",
      "[ 0.04055069  0.04939759 -0.01429644 -0.03969637]\n",
      "None None None\n",
      "[ 0.04153864  0.2447216  -0.01509037 -0.33685546]\n",
      "1.0 False {}\n",
      "[ 0.04643308  0.44005501 -0.02182748 -0.63425861]\n",
      "1.0 False {}\n",
      "[ 0.05523418  0.24524423 -0.03451265 -0.34852881]\n",
      "1.0 False {}\n",
      "[ 0.06013906  0.05062971 -0.04148323 -0.06692558]\n",
      "1.0 False {}\n",
      "[ 0.06115165  0.2463211  -0.04282174 -0.3724027 ]\n",
      "1.0 False {}\n",
      "[ 0.06607808  0.05183281 -0.05026979 -0.09352345]\n",
      "1.0 False {}\n",
      "[ 0.06711473 -0.14253393 -0.05214026  0.18288527]\n",
      "1.0 False {}\n",
      "[ 0.06426405 -0.33687255 -0.04848255  0.45867474]\n",
      "1.0 False {}\n",
      "[ 0.0575266  -0.53127681 -0.03930906  0.7356902 ]\n",
      "1.0 False {}\n",
      "[ 0.04690107 -0.33563455 -0.02459526  0.43089962]\n",
      "1.0 False {}\n",
      "[ 0.04018838 -0.14017312 -0.01597726  0.13056587]\n",
      "1.0 False {}\n",
      "[ 0.03738491 -0.3350626  -0.01336595  0.41816566]\n",
      "1.0 False {}\n",
      "[ 0.03068366 -0.52999261 -0.00500263  0.7066051 ]\n",
      "1.0 False {}\n",
      "[ 0.02008381 -0.33480171  0.00912947  0.41235164]\n",
      "1.0 False {}\n",
      "[ 0.01338778 -0.53005188  0.0173765   0.70789872]\n",
      "1.0 False {}\n",
      "[ 0.00278674 -0.3351749   0.03153448  0.4207358 ]\n",
      "1.0 False {}\n",
      "[-0.00391676 -0.14051361  0.03994919  0.13815864]\n",
      "1.0 False {}\n",
      "[-0.00672703  0.05401406  0.04271237 -0.14165811]\n",
      "1.0 False {}\n",
      "[-0.00564675  0.24849909  0.0398792  -0.42056597]\n",
      "1.0 False {}\n",
      "[-0.00067677  0.05283545  0.03146788 -0.11558249]\n",
      "1.0 False {}\n",
      "[ 0.00037994 -0.14272292  0.02915623  0.18685988]\n",
      "1.0 False {}\n",
      "[-0.00247452 -0.33824963  0.03289343  0.488596  ]\n",
      "1.0 False {}\n",
      "[-0.00923951 -0.14360682  0.04266535  0.20645865]\n",
      "1.0 False {}\n",
      "[-0.01211165 -0.33931209  0.04679452  0.51228922]\n",
      "1.0 False {}\n",
      "[-0.01889789 -0.14487941  0.05704031  0.23471203]\n",
      "1.0 False {}\n",
      "[-0.02179548  0.04938314  0.06173455 -0.03944713]\n",
      "1.0 False {}\n",
      "[-0.02080781  0.24356799  0.06094561 -0.31203109]\n",
      "1.0 False {}\n",
      "[-0.01593645  0.04763312  0.05470499 -0.00076753]\n",
      "1.0 False {}\n",
      "[-0.01498379  0.24192958  0.05468963 -0.275701  ]\n",
      "1.0 False {}\n",
      "[-0.0101452   0.04607174  0.04917561  0.03371726]\n",
      "1.0 False {}\n",
      "[-0.00922377 -0.14971966  0.04984996  0.34150113]\n",
      "1.0 False {}\n",
      "[-0.01221816  0.04465891  0.05667998  0.0649453 ]\n",
      "1.0 False {}\n",
      "[-0.01132498 -0.15122794  0.05797889  0.37495872]\n",
      "1.0 False {}\n",
      "[-0.01434954  0.04302459  0.06547806  0.10110577]\n",
      "1.0 False {}\n",
      "[-0.01348905  0.23715001  0.06750018 -0.17022158]\n",
      "1.0 False {}\n",
      "[-0.00874605  0.04113011  0.06409575  0.14296868]\n",
      "1.0 False {}\n",
      "[-0.00792345 -0.15484845  0.06695512  0.45516412]\n",
      "1.0 False {}\n",
      "[-0.01102041  0.03926608  0.0760584   0.18431485]\n",
      "1.0 False {}\n",
      "[-0.01023509 -0.15685708  0.0797447   0.49998871]\n",
      "1.0 False {}\n",
      "[-0.01337223  0.03705545  0.08974447  0.23346438]\n",
      "1.0 False {}\n",
      "[-0.01263113 -0.15922654  0.09441376  0.55305198]\n",
      "1.0 False {}\n",
      "[-0.01581566  0.03445159  0.1054748   0.29154507]\n",
      "1.0 False {}\n",
      "[-0.01512662 -0.16200377  0.1113057   0.61554259]\n",
      "1.0 False {}\n",
      "[-0.0183667   0.0314015   0.12361655  0.35988624]\n",
      "1.0 False {}\n",
      "[-0.01773867 -0.16524095  0.13081428  0.68884989]\n",
      "1.0 False {}\n",
      "[-0.02104349  0.02784625  0.14459128  0.44004349]\n",
      "1.0 False {}\n",
      "[-0.02048656 -0.16899432  0.15339215  0.77458514]\n",
      "1.0 False {}\n",
      "[-0.02386645 -0.36585608  0.16888385  1.11133124]\n",
      "1.0 False {}\n",
      "[-0.03118357 -0.56274475  0.19111047  1.4518787 ]\n",
      "1.0 False {}\n",
      "Episode finished after 50 timesteps\n",
      "[-0.00916044  0.0436728   0.04860068 -0.04638747]\n",
      "None None None\n",
      "[-0.00828699 -0.15211114  0.04767293  0.26122466]\n",
      "1.0 False {}\n",
      "[-0.01132921  0.04229901  0.05289743 -0.01604872]\n",
      "1.0 False {}\n",
      "[-0.01048323 -0.15354008  0.05257645  0.29284361]\n",
      "1.0 False {}\n",
      "[-0.01355403  0.04079437  0.05843332  0.01719511]\n",
      "1.0 False {}\n",
      "[-0.01273814 -0.15511479  0.05877723  0.32772692]\n",
      "1.0 False {}\n",
      "[-0.01584044 -0.35102213  0.06533177  0.63835102]\n",
      "1.0 False {}\n",
      "[-0.02286088 -0.5469913   0.07809879  0.95087155]\n",
      "1.0 False {}\n",
      "[-0.03380071 -0.7430726   0.09711622  1.26703467]\n",
      "1.0 False {}\n",
      "[-0.04866216 -0.93929175  0.12245691  1.5884838 ]\n",
      "1.0 False {}\n",
      "[-0.06744799 -0.74581903  0.15422659  1.33636036]\n",
      "1.0 False {}\n",
      "[-0.08236437 -0.94251064  0.18095379  1.67305895]\n",
      "1.0 False {}\n",
      "Episode finished after 12 timesteps\n",
      "[ 0.0018972  -0.0317625   0.04068961  0.01149273]\n",
      "None None None\n",
      "[ 0.00126195  0.162753    0.04091947 -0.26807957]\n",
      "1.0 False {}\n",
      "[ 0.00451701 -0.03292831  0.03555788  0.03722367]\n",
      "1.0 False {}\n",
      "[ 0.00385844 -0.22854164  0.03630235  0.34091001]\n",
      "1.0 False {}\n",
      "[-0.00071239 -0.4241608   0.04312055  0.64481596]\n",
      "1.0 False {}\n",
      "[-0.00919561 -0.22966545  0.05601687  0.36601764]\n",
      "1.0 False {}\n",
      "[-0.01378891 -0.42553684  0.06333722  0.67582423]\n",
      "1.0 False {}\n",
      "[-0.02229965 -0.62147907  0.07685371  0.98775694]\n",
      "1.0 False {}\n",
      "[-0.03472923 -0.42746558  0.09660885  0.72016849]\n",
      "1.0 False {}\n",
      "[-0.04327854 -0.62378198  0.11101222  1.04162879]\n",
      "1.0 False {}\n",
      "[-0.05575418 -0.43029555  0.13184479  0.78575625]\n",
      "1.0 False {}\n",
      "[-0.06436009 -0.62695863  0.14755992  1.1168408 ]\n",
      "1.0 False {}\n",
      "[-0.07689927 -0.82367616  0.16989673  1.45193578]\n",
      "1.0 False {}\n",
      "[-0.09337279 -0.63099945  0.19893545  1.21679159]\n",
      "1.0 False {}\n",
      "Episode finished after 14 timesteps\n",
      "[ 0.00810801  0.00246493  0.04433901 -0.02977399]\n",
      "None None None\n",
      "[ 0.00815731 -0.1932639   0.04374354  0.2765621 ]\n",
      "1.0 False {}\n",
      "[ 0.00429203 -0.38898175  0.04927478  0.58271454]\n",
      "1.0 False {}\n",
      "[-0.0034876  -0.58475816  0.06092907  0.89050364]\n",
      "1.0 False {}\n",
      "[-0.01518276 -0.39051345  0.07873914  0.6175793 ]\n",
      "1.0 False {}\n",
      "[-0.02299303 -0.1965746   0.09109073  0.35069775]\n",
      "1.0 False {}\n",
      "[-0.02692453 -0.39286595  0.09810468  0.67065773]\n",
      "1.0 False {}\n",
      "[-0.03478184 -0.58920505  0.11151784  0.99254679]\n",
      "1.0 False {}\n",
      "[-0.04656594 -0.78562814  0.13136877  1.31806959]\n",
      "1.0 False {}\n",
      "[-0.06227851 -0.98214376  0.15773016  1.64881454]\n",
      "1.0 False {}\n",
      "[-0.08192138 -1.17871896  0.19070645  1.98619764]\n",
      "1.0 False {}\n",
      "Episode finished after 11 timesteps\n",
      "[ 0.04305324  0.0480799   0.03051119  0.03870946]\n",
      "None None None\n",
      "[ 0.04401483 -0.147466    0.03128538  0.34086068]\n",
      "1.0 False {}\n",
      "[ 0.04106551  0.04719718  0.03810259  0.0582052 ]\n",
      "1.0 False {}\n",
      "[ 0.04200946 -0.14844979  0.0392667   0.3626621 ]\n",
      "1.0 False {}\n",
      "[ 0.03904046 -0.34410721  0.04651994  0.66746344]\n",
      "1.0 False {}\n",
      "[ 0.03215832 -0.53984417  0.05986921  0.97442318]\n",
      "1.0 False {}\n",
      "[ 0.02136143 -0.34557425  0.07935767  0.70113142]\n",
      "1.0 False {}\n",
      "[ 0.01444995 -0.15163679  0.0933803   0.43444743]\n",
      "1.0 False {}\n",
      "[ 0.01141721  0.04204767  0.10206925  0.17260042]\n",
      "1.0 False {}\n",
      "[ 0.01225817 -0.15437578  0.10552126  0.49565844]\n",
      "1.0 False {}\n",
      "[ 0.00917065 -0.35081515  0.11543443  0.81964426]\n",
      "1.0 False {}\n",
      "[ 0.00215435 -0.15744624  0.13182731  0.56538364]\n",
      "1.0 False {}\n",
      "[-0.00099458  0.03560387  0.14313498  0.31696608]\n",
      "1.0 False {}\n",
      "[-0.0002825   0.22842787  0.14947431  0.07262605]\n",
      "1.0 False {}\n",
      "[ 0.00428606  0.42112601  0.15092683 -0.16941615]\n",
      "1.0 False {}\n",
      "[ 0.01270858  0.22420221  0.1475385   0.16681586]\n",
      "1.0 False {}\n",
      "[ 0.01719262  0.02731024  0.15087482  0.50216437]\n",
      "1.0 False {}\n",
      "[ 0.01773883 -0.16958035  0.16091811  0.83833434]\n",
      "1.0 False {}\n",
      "[ 0.01434722  0.0230215   0.17768479  0.60027002]\n",
      "1.0 False {}\n",
      "[ 0.01480765  0.21527116  0.18969019  0.36840072]\n",
      "1.0 False {}\n",
      "[ 0.01911307  0.01803163  0.19705821  0.71438815]\n",
      "1.0 False {}\n",
      "Episode finished after 21 timesteps\n",
      "[-0.01779554 -0.01512487  0.04574992 -0.0190154 ]\n",
      "None None None\n",
      "[-0.01809804 -0.21087205  0.04536961  0.28774393]\n",
      "1.0 False {}\n",
      "[-0.02231548 -0.40661065  0.05112449  0.59438379]\n",
      "1.0 False {}\n",
      "[-0.0304477  -0.21224015  0.06301216  0.31823303]\n",
      "1.0 False {}\n",
      "[-0.0346925  -0.40820032  0.06937682  0.63010325]\n",
      "1.0 False {}\n",
      "[-0.04285651 -0.21411154  0.08197889  0.36005086]\n",
      "1.0 False {}\n",
      "[-0.04713874 -0.02024479  0.08917991  0.09430216]\n",
      "1.0 False {}\n",
      "[-0.04754363  0.17349329  0.09106595 -0.16896597]\n",
      "1.0 False {}\n",
      "[-0.04407377  0.36720175  0.08768663 -0.43158827]\n",
      "1.0 False {}\n",
      "[-0.03672973  0.17095472  0.07905486 -0.11260185]\n",
      "1.0 False {}\n",
      "[-0.03331064 -0.02520578  0.07680283  0.20393785]\n",
      "1.0 False {}\n",
      "[-0.03381475 -0.22133727  0.08088158  0.51982567]\n",
      "1.0 False {}\n",
      "[-0.0382415  -0.02744154  0.0912781   0.25368614]\n",
      "1.0 False {}\n",
      "[-0.03879033  0.16626657  0.09635182 -0.00886791]\n",
      "1.0 False {}\n",
      "[-0.035465    0.35988412  0.09617446 -0.26966355]\n",
      "1.0 False {}\n",
      "[-0.02826731  0.16353067  0.09078119  0.05173727]\n",
      "1.0 False {}\n",
      "[-0.0249967   0.35724157  0.09181594 -0.21097957]\n",
      "1.0 False {}\n",
      "[-0.01785187  0.55093897  0.08759635 -0.47334588]\n",
      "1.0 False {}\n",
      "[-0.00683309  0.74472169  0.07812943 -0.73718507]\n",
      "1.0 False {}\n",
      "[ 0.00806134  0.93868262  0.06338573 -1.00429226]\n",
      "1.0 False {}\n",
      "[ 0.026835    0.74277391  0.04329988 -0.69239639]\n",
      "1.0 False {}\n",
      "[ 0.04169047  0.54707883  0.02945195 -0.38640272]\n",
      "1.0 False {}\n",
      "[ 0.05263205  0.74177057  0.0217239  -0.66965606]\n",
      "1.0 False {}\n",
      "[ 0.06746746  0.93658385  0.00833078 -0.9554207 ]\n",
      "1.0 False {}\n",
      "[ 0.08619914  0.74135084 -0.01077764 -0.66013213]\n",
      "1.0 False {}\n",
      "[ 0.10102616  0.54638052 -0.02398028 -0.37086219]\n",
      "1.0 False {}\n",
      "[ 0.11195377  0.35160732 -0.03139752 -0.08583593]\n",
      "1.0 False {}\n",
      "[ 0.11898591  0.54716494 -0.03311424 -0.38825713]\n",
      "1.0 False {}\n",
      "[ 0.12992921  0.74274089 -0.04087938 -0.69119404]\n",
      "1.0 False {}\n",
      "[ 0.14478403  0.54820928 -0.05470327 -0.4116556 ]\n",
      "1.0 False {}\n",
      "[ 0.15574821  0.74406231 -0.06293638 -0.72107044]\n",
      "1.0 False {}\n",
      "[ 0.17062946  0.93999587 -0.07735779 -1.03287998]\n",
      "1.0 False {}\n",
      "[ 0.18942938  1.13605671 -0.09801539 -1.34881223]\n",
      "1.0 False {}\n",
      "[ 0.21215051  1.33226418 -0.12499163 -1.67048126]\n",
      "1.0 False {}\n",
      "[ 0.2387958   1.52859742 -0.15840126 -1.99933556]\n",
      "1.0 False {}\n",
      "[ 0.26936774  1.33544586 -0.19838797 -1.75961086]\n",
      "1.0 False {}\n",
      "Episode finished after 36 timesteps\n",
      "[ 0.01769783  0.02455844  0.03019055  0.02188284]\n",
      "None None None\n",
      "[ 0.018189   -0.17098317  0.0306282   0.32393627]\n",
      "1.0 False {}\n",
      "[ 0.01476934  0.02368958  0.03710693  0.04106739]\n",
      "1.0 False {}\n",
      "[ 0.01524313 -0.17194429  0.03792828  0.34522312]\n",
      "1.0 False {}\n",
      "[ 0.01180425  0.02261818  0.04483274  0.06473755]\n",
      "1.0 False {}\n",
      "[ 0.01225661 -0.17311693  0.04612749  0.3712216 ]\n",
      "1.0 False {}\n",
      "[ 0.00879427  0.02132037  0.05355192  0.09343255]\n",
      "1.0 False {}\n",
      "[ 0.00922068  0.2156355   0.05542057 -0.18188555]\n",
      "1.0 False {}\n",
      "[ 0.01353339  0.01976612  0.05178286  0.12775273]\n",
      "1.0 False {}\n",
      "[ 0.01392871 -0.17605793  0.05433792  0.43631244]\n",
      "1.0 False {}\n",
      "[ 0.01040755 -0.37190528  0.06306417  0.74561736]\n",
      "1.0 False {}\n",
      "[ 0.00296945 -0.17770762  0.07797651  0.47342851]\n",
      "1.0 False {}\n",
      "[ -5.84705720e-04  -3.73839223e-01   8.74450835e-02   7.89633832e-01]\n",
      "1.0 False {}\n",
      "[-0.00806149 -0.57004625  0.10323776  1.10849595]\n",
      "1.0 False {}\n",
      "[-0.01946242 -0.37642131  0.12540768  0.84990292]\n",
      "1.0 False {}\n",
      "[-0.02699084 -0.18321212  0.14240574  0.59913841]\n",
      "1.0 False {}\n",
      "[-0.03065508  0.00966046  0.15438851  0.35448401]\n",
      "1.0 False {}\n",
      "[-0.03046187  0.20228883  0.16147819  0.11418833]\n",
      "1.0 False {}\n",
      "[-0.0264161   0.00526579  0.16376195  0.45314673]\n",
      "1.0 False {}\n",
      "[-0.02631078  0.19773925  0.17282489  0.21623031]\n",
      "1.0 False {}\n",
      "[-0.022356    0.00062217  0.17714949  0.55805918]\n",
      "1.0 False {}\n",
      "[-0.02234355 -0.19648611  0.18831068  0.90090446]\n",
      "1.0 False {}\n",
      "[-0.02627328 -0.39359167  0.20632877  1.24637284]\n",
      "1.0 False {}\n",
      "Episode finished after 23 timesteps\n",
      "[-0.03648345  0.00315014 -0.03464972  0.02186453]\n",
      "None None None\n",
      "[-0.03642045  0.19875143 -0.03421243 -0.28154627]\n",
      "1.0 False {}\n",
      "[-0.03244542  0.39434426 -0.03984335 -0.58482033]\n",
      "1.0 False {}\n",
      "[-0.02455854  0.59000101 -0.05153976 -0.88978338]\n",
      "1.0 False {}\n",
      "[-0.01275852  0.39561487 -0.06933543 -0.61373732]\n",
      "1.0 False {}\n",
      "[-0.00484622  0.5916337  -0.08161017 -0.92742739]\n",
      "1.0 False {}\n",
      "[ 0.00698646  0.39770287 -0.10015872 -0.66146608]\n",
      "1.0 False {}\n",
      "[ 0.01494051  0.2041067  -0.11338804 -0.40192465]\n",
      "1.0 False {}\n",
      "[ 0.01902265  0.40063897 -0.12142653 -0.72809469]\n",
      "1.0 False {}\n",
      "[ 0.02703543  0.59721161 -0.13598843 -1.0563943 ]\n",
      "1.0 False {}\n",
      "[ 0.03897966  0.79384784 -0.15711631 -1.38848305]\n",
      "1.0 False {}\n",
      "[ 0.05485662  0.9905395  -0.18488597 -1.72588884]\n",
      "1.0 False {}\n",
      "Episode finished after 12 timesteps\n",
      "[ 0.04883985  0.02084455  0.01120592  0.00718346]\n",
      "None None None\n",
      "[ 0.04925674  0.21580402  0.01134959 -0.2819429 ]\n",
      "1.0 False {}\n",
      "[ 0.05357282  0.02052203  0.00571073  0.01429792]\n",
      "1.0 False {}\n",
      "[ 0.05398326 -0.17468135  0.00599669  0.30877716]\n",
      "1.0 False {}\n",
      "[ 0.05048964  0.02035465  0.01217223  0.01799144]\n",
      "1.0 False {}\n",
      "[ 0.05089673  0.21529994  0.01253206 -0.27082628]\n",
      "1.0 False {}\n",
      "[ 0.05520273  0.41024084  0.00711553 -0.55953034]\n",
      "1.0 False {}\n",
      "[ 0.06340754  0.6052622  -0.00407507 -0.84996302]\n",
      "1.0 False {}\n",
      "[ 0.07551279  0.80043948 -0.02107433 -1.14392459]\n",
      "1.0 False {}\n",
      "[ 0.09152158  0.99583033 -0.04395283 -1.44314117]\n",
      "1.0 False {}\n",
      "[ 0.11143818  1.1914649  -0.07281565 -1.7492276 ]\n",
      "1.0 False {}\n",
      "[ 0.13526748  1.38733442 -0.1078002  -2.06364221]\n",
      "1.0 False {}\n",
      "[ 0.16301417  1.58337736 -0.14907305 -2.38763155]\n",
      "1.0 False {}\n",
      "[ 0.19468172  1.77946318 -0.19682568 -2.72216347]\n",
      "1.0 False {}\n",
      "Episode finished after 14 timesteps\n",
      "[ 0.04561235 -0.00252311  0.01883221 -0.00320343]\n",
      "None None None\n",
      "[ 0.04556189 -0.19791001  0.01876814  0.29536129]\n",
      "1.0 False {}\n",
      "[ 0.04160369 -0.39329442  0.02467537  0.59390381]\n",
      "1.0 False {}\n",
      "[ 0.0337378  -0.58875292  0.03655344  0.89425612]\n",
      "1.0 False {}\n",
      "[ 0.02196274 -0.39414523  0.05443856  0.61328391]\n",
      "1.0 False {}\n",
      "[ 0.01407984 -0.1998246   0.06670424  0.3382318 ]\n",
      "1.0 False {}\n",
      "[ 0.01008334 -0.00571211  0.07346888  0.06730711]\n",
      "1.0 False {}\n",
      "[ 0.0099691  -0.20180629  0.07481502  0.38223532]\n",
      "1.0 False {}\n",
      "[ 0.00593298 -0.00782195  0.08245973  0.11404786]\n",
      "1.0 False {}\n",
      "[ 0.00577654  0.18602758  0.08474069 -0.15152272]\n",
      "1.0 False {}\n",
      "[ 0.00949709  0.37984034  0.08171023 -0.4163147 ]\n",
      "1.0 False {}\n",
      "[ 0.01709389  0.57371495  0.07338394 -0.68216027]\n",
      "1.0 False {}\n",
      "[ 0.02856819  0.76774521  0.05974073 -0.95086682]\n",
      "1.0 False {}\n",
      "[ 0.0439231   0.96201443  0.0407234  -1.22419746]\n",
      "1.0 False {}\n",
      "[ 0.06316339  1.15658892  0.01623945 -1.50384785]\n",
      "1.0 False {}\n",
      "[ 0.08629516  0.96127371 -0.01383751 -1.20613948]\n",
      "1.0 False {}\n",
      "[ 0.10552064  0.76633327 -0.0379603  -0.91782492]\n",
      "1.0 False {}\n",
      "[ 0.1208473   0.57174452 -0.0563168  -0.63730972]\n",
      "1.0 False {}\n",
      "[ 0.1322822   0.37745127 -0.06906299 -0.36288026]\n",
      "1.0 False {}\n",
      "[ 0.13983122  0.57348336 -0.0763206  -0.67651581]\n",
      "1.0 False {}\n",
      "[ 0.15130089  0.76957816 -0.08985091 -0.99221823]\n",
      "1.0 False {}\n",
      "[ 0.16669245  0.57576587 -0.10969528 -0.72905317]\n",
      "1.0 False {}\n",
      "[ 0.17820777  0.77221938 -0.12427634 -1.05414802]\n",
      "1.0 False {}\n",
      "[ 0.19365216  0.57894435 -0.1453593  -0.80291466]\n",
      "1.0 False {}\n",
      "[ 0.20523104  0.3860828  -0.1614176  -0.55925853]\n",
      "1.0 False {}\n",
      "[ 0.2129527   0.58305839 -0.17260277 -0.89813197]\n",
      "1.0 False {}\n",
      "[ 0.22461387  0.39064307 -0.19056541 -0.66429125]\n",
      "1.0 False {}\n",
      "[ 0.23242673  0.58783312 -0.20385123 -1.01040955]\n",
      "1.0 False {}\n",
      "Episode finished after 28 timesteps\n",
      "[-0.03065624 -0.04491472  0.02552996 -0.00211377]\n",
      "None None None\n",
      "[-0.03155453  0.14983197  0.02548769 -0.28663361]\n",
      "1.0 False {}\n",
      "[-0.02855789 -0.04564402  0.01975501  0.01397771]\n",
      "1.0 False {}\n",
      "[-0.02947078 -0.24104363  0.02003457  0.31282753]\n",
      "1.0 False {}\n",
      "[-0.03429165 -0.43644518  0.02629112  0.6117608 ]\n",
      "1.0 False {}\n",
      "[-0.04302055 -0.63192453  0.03852633  0.91260718]\n",
      "1.0 False {}\n",
      "[-0.05565904 -0.43734438  0.05677848  0.63227748]\n",
      "1.0 False {}\n",
      "[-0.06440593 -0.24305861  0.06942403  0.35800237]\n",
      "1.0 False {}\n",
      "[-0.0692671  -0.04898877  0.07658407  0.0879931 ]\n",
      "1.0 False {}\n",
      "[-0.07024688 -0.24512017  0.07834394  0.4038216 ]\n",
      "1.0 False {}\n",
      "[-0.07514928 -0.05119166  0.08642037  0.13683065]\n",
      "1.0 False {}\n",
      "[-0.07617311 -0.24743829  0.08915698  0.45547801]\n",
      "1.0 False {}\n",
      "[-0.08112188 -0.05368259  0.09826654  0.19217625]\n",
      "1.0 False {}\n",
      "[-0.08219553 -0.25006293  0.10211007  0.51416956]\n",
      "1.0 False {}\n",
      "[-0.08719679 -0.44646352  0.11239346  0.83720418]\n",
      "1.0 False {}\n",
      "[-0.09612606 -0.6429263   0.12913754  1.16301312]\n",
      "1.0 False {}\n",
      "[-0.10898459 -0.83947131  0.1523978   1.49323679]\n",
      "1.0 False {}\n",
      "[-0.12577401 -0.64649645  0.18226254  1.25176112]\n",
      "1.0 False {}\n",
      "[-0.13870394 -0.45411629  0.20729776  1.02125972]\n",
      "1.0 False {}\n",
      "Episode finished after 19 timesteps\n",
      "[ 0.01369713 -0.04087623  0.01436123 -0.00543282]\n",
      "None None None\n",
      "[ 0.01287961 -0.23620116  0.01425258  0.29174643]\n",
      "1.0 False {}\n",
      "[ 0.00815559 -0.0412853   0.02008751  0.00359245]\n",
      "1.0 False {}\n",
      "[ 0.00732988 -0.23668949  0.02015936  0.30254493]\n",
      "1.0 False {}\n",
      "[ 0.00259609 -0.43209287  0.02621025  0.60151689]\n",
      "1.0 False {}\n",
      "[-0.00604577 -0.23734717  0.03824059  0.31720361]\n",
      "1.0 False {}\n",
      "[-0.01079271 -0.04279017  0.04458466  0.03682145]\n",
      "1.0 False {}\n",
      "[-0.01164851  0.15166502  0.04532109 -0.24146792]\n",
      "1.0 False {}\n",
      "[-0.00861521 -0.04407404  0.04049173  0.06515902]\n",
      "1.0 False {}\n",
      "[-0.00949669  0.15044468  0.04179492 -0.21447857]\n",
      "1.0 False {}\n",
      "[-0.0064878   0.34494496  0.03750534 -0.49369008]\n",
      "1.0 False {}\n",
      "[ 0.0004111   0.14931467  0.02763154 -0.18942703]\n",
      "1.0 False {}\n",
      "[ 0.00339739  0.34403064  0.023843   -0.47326685]\n",
      "1.0 False {}\n",
      "[ 0.01027801  0.14858021  0.01437766 -0.17316536]\n",
      "1.0 False {}\n",
      "[ 0.01324961  0.34349347  0.01091436 -0.46127814]\n",
      "1.0 False {}\n",
      "[ 0.02011948  0.53845947  0.00168879 -0.75050097]\n",
      "1.0 False {}\n",
      "[ 0.03088867  0.34331427 -0.01332122 -0.45728707]\n",
      "1.0 False {}\n",
      "[ 0.03775495  0.14838315 -0.02246697 -0.16883267]\n",
      "1.0 False {}\n",
      "[ 0.04072262  0.34381936 -0.02584362 -0.46851773]\n",
      "1.0 False {}\n",
      "[ 0.047599    0.5392967  -0.03521397 -0.769233  ]\n",
      "1.0 False {}\n",
      "[ 0.05838494  0.34467668 -0.05059863 -0.48783472]\n",
      "1.0 False {}\n",
      "[ 0.06527847  0.54047466 -0.06035533 -0.79602546]\n",
      "1.0 False {}\n",
      "[ 0.07608796  0.73637065 -0.07627584 -1.10706811]\n",
      "1.0 False {}\n",
      "[ 0.09081538  0.93240786 -0.0984172  -1.42267229]\n",
      "1.0 False {}\n",
      "[ 0.10946354  1.12859954 -0.12687065 -1.7444237 ]\n",
      "1.0 False {}\n",
      "[ 0.13203553  1.32491592 -0.16175912 -2.07373148]\n",
      "1.0 False {}\n",
      "[ 0.15853384  1.52126911 -0.20323375 -2.41176638]\n",
      "1.0 False {}\n",
      "Episode finished after 27 timesteps\n",
      "[-0.02273981 -0.01058243 -0.00839742 -0.0062529 ]\n",
      "None None None\n",
      "[-0.02295146 -0.20558295 -0.00852248  0.28376875]\n",
      "1.0 False {}\n",
      "[-0.02706312 -0.01034049 -0.00284711 -0.01158989]\n",
      "1.0 False {}\n",
      "[-0.02726993 -0.20542149 -0.0030789   0.28019338]\n",
      "1.0 False {}\n",
      "[-0.03137836 -0.01025576  0.00252496 -0.01345903]\n",
      "1.0 False {}\n",
      "[-0.03158347 -0.20541383  0.00225578  0.28001948]\n",
      "1.0 False {}\n",
      "[-0.03569175 -0.40056788  0.00785617  0.57341303]\n",
      "1.0 False {}\n",
      "[-0.04370311 -0.20555696  0.01932443  0.28321535]\n",
      "1.0 False {}\n",
      "[-0.04781424 -0.01071589  0.02498874 -0.00331065]\n",
      "1.0 False {}\n",
      "[-0.04802856  0.18403894  0.02492253 -0.28800576]\n",
      "1.0 False {}\n",
      "[-0.04434778  0.37879678  0.01916241 -0.57272534]\n",
      "1.0 False {}\n",
      "[-0.03677185  0.57364488  0.00770791 -0.85931042]\n",
      "1.0 False {}\n",
      "[-0.02529895  0.37841879 -0.0094783  -0.56421389]\n",
      "1.0 False {}\n",
      "[-0.01773057  0.57367244 -0.02076258 -0.85986778]\n",
      "1.0 False {}\n",
      "[-0.00625713  0.76907093 -0.03795994 -1.15900611]\n",
      "1.0 False {}\n",
      "[ 0.00912429  0.96466641 -0.06114006 -1.46334551]\n",
      "1.0 False {}\n",
      "[ 0.02841762  0.77034455 -0.09040697 -1.19037133]\n",
      "1.0 False {}\n",
      "[ 0.04382451  0.57650292 -0.11421439 -0.92733978]\n",
      "1.0 False {}\n",
      "[ 0.05535457  0.77296633 -0.13276119 -1.25362093]\n",
      "1.0 False {}\n",
      "[ 0.0708139   0.96951503 -0.15783361 -1.58476681]\n",
      "1.0 False {}\n",
      "[ 0.0902042   0.77658287 -0.18952895 -1.34517643]\n",
      "1.0 False {}\n",
      "Episode finished after 21 timesteps\n",
      "[ 0.04001017  0.0384525  -0.00800863 -0.01819196]\n",
      "None None None\n",
      "[ 0.04077922  0.23368838 -0.00837247 -0.31339091]\n",
      "1.0 False {}\n",
      "[ 0.04545299  0.4289286  -0.01464029 -0.60870245]\n",
      "1.0 False {}\n",
      "[ 0.05403156  0.23401434 -0.02681434 -0.32066649]\n",
      "1.0 False {}\n",
      "[ 0.05871185  0.03928432 -0.03322767 -0.03655893]\n",
      "1.0 False {}\n",
      "[ 0.05949753 -0.15534578 -0.03395885  0.24545792]\n",
      "1.0 False {}\n",
      "[ 0.05639062  0.04024433 -0.02904969 -0.05774006]\n",
      "1.0 False {}\n",
      "[ 0.0571955  -0.15444932 -0.03020449  0.22563778]\n",
      "1.0 False {}\n",
      "[ 0.05410652 -0.34912687 -0.02569174  0.50864214]\n",
      "1.0 False {}\n",
      "[ 0.04712398 -0.5438776  -0.01551889  0.7931193 ]\n",
      "1.0 False {}\n",
      "[  3.62464287e-02  -7.38783115e-01   3.43491863e-04   1.08087999e+00]\n",
      "1.0 False {}\n",
      "[ 0.02147077 -0.9339096   0.02196109  1.37367068]\n",
      "1.0 False {}\n",
      "[ 0.00279257 -1.12929908  0.04943451  1.67314028]\n",
      "1.0 False {}\n",
      "[-0.01979341 -0.93478474  0.08289731  1.39625303]\n",
      "1.0 False {}\n",
      "[-0.0384891  -0.74078605  0.11082237  1.13059819]\n",
      "1.0 False {}\n",
      "[-0.05330482 -0.54727574  0.13343434  0.87462849]\n",
      "1.0 False {}\n",
      "[-0.06425034 -0.74393473  0.15092691  1.20610816]\n",
      "1.0 False {}\n",
      "[-0.07912903 -0.94064969  0.17504907  1.5420305 ]\n",
      "1.0 False {}\n",
      "[-0.09794203 -0.74801073  0.20588968  1.30868993]\n",
      "1.0 False {}\n",
      "Episode finished after 19 timesteps\n",
      "[-0.00610279 -0.03505889  0.04331521 -0.00669791]\n",
      "None None None\n",
      "[-0.00680397  0.15941596  0.04318125 -0.28540587]\n",
      "1.0 False {}\n",
      "[-0.00361565 -0.03629439  0.03747314  0.02057734]\n",
      "1.0 False {}\n",
      "[-0.00434154  0.15827068  0.03788468 -0.26005085]\n",
      "1.0 False {}\n",
      "[-0.00117613 -0.03737104  0.03268367  0.04433659]\n",
      "1.0 False {}\n",
      "[-0.00192355  0.15726737  0.0335704  -0.23785781]\n",
      "1.0 False {}\n",
      "[ 0.0012218  -0.0383177   0.02881324  0.06522233]\n",
      "1.0 False {}\n",
      "[ 0.00045545  0.15637956  0.03011769 -0.21823241]\n",
      "1.0 False {}\n",
      "[ 0.00358304  0.35105832  0.02575304 -0.50126486]\n",
      "1.0 False {}\n",
      "[ 0.0106042   0.54580796  0.01572774 -0.7857219 ]\n",
      "1.0 False {}\n",
      "[  2.15203622e-02   3.50473495e-01   1.33059542e-05  -4.88132671e-01]\n",
      "1.0 False {}\n",
      "[ 0.02852983  0.54559526 -0.00974935 -0.7808114 ]\n",
      "1.0 False {}\n",
      "[ 0.03944174  0.35060868 -0.02536558 -0.49121169]\n",
      "1.0 False {}\n",
      "[ 0.04645391  0.15585354 -0.03518981 -0.20662965]\n",
      "1.0 False {}\n",
      "[ 0.04957098  0.35146057 -0.0393224  -0.51020221]\n",
      "1.0 False {}\n",
      "[ 0.05660019  0.15691399 -0.04952645 -0.23016574]\n",
      "1.0 False {}\n",
      "[ 0.05973847  0.3527074  -0.05412976 -0.53805054]\n",
      "1.0 False {}\n",
      "[ 0.06679262  0.15838657 -0.06489077 -0.2629026 ]\n",
      "1.0 False {}\n",
      "[ 0.06996035 -0.035752   -0.07014882  0.00862786]\n",
      "1.0 False {}\n",
      "[ 0.06924531  0.16030221 -0.06997627 -0.30533703]\n",
      "1.0 False {}\n",
      "[ 0.07245136 -0.0337564  -0.07608301 -0.03551775]\n",
      "1.0 False {}\n",
      "[ 0.07177623 -0.22770952 -0.07679336  0.23222346]\n",
      "1.0 False {}\n",
      "[ 0.06722204 -0.42165498 -0.07214889  0.4997292 ]\n",
      "1.0 False {}\n",
      "[ 0.05878894 -0.61568958 -0.06215431  0.76883053]\n",
      "1.0 False {}\n",
      "[ 0.04647515 -0.80990343 -0.0467777   1.04132718]\n",
      "1.0 False {}\n",
      "[ 0.03027708 -1.00437386 -0.02595116  1.3189661 ]\n",
      "1.0 False {}\n",
      "[  1.01896011e-02  -1.19915824e+00   4.28166745e-04   1.60341551e+00]\n",
      "1.0 False {}\n",
      "[-0.01379356 -1.39428526  0.03249648  1.89623189]\n",
      "1.0 False {}\n",
      "[-0.04167927 -1.58974385  0.07042111  2.19881727]\n",
      "1.0 False {}\n",
      "[-0.07347415 -1.39536703  0.11439746  1.92866139]\n",
      "1.0 False {}\n",
      "[-0.10138149 -1.59151408  0.15297069  2.25451841]\n",
      "1.0 False {}\n",
      "[-0.13321177 -1.39812483  0.19806106  2.01262009]\n",
      "1.0 False {}\n",
      "Episode finished after 32 timesteps\n",
      "[-0.00804782 -0.02110872  0.01702331 -0.02155577]\n",
      "None None None\n",
      "[-0.00846999 -0.21647061  0.0165922   0.27644923]\n",
      "1.0 False {}\n",
      "[-0.01279941 -0.02158926  0.02212118 -0.01095468]\n",
      "1.0 False {}\n",
      "[-0.01323119  0.17320857  0.02190209 -0.29657684]\n",
      "1.0 False {}\n",
      "[-0.00976702  0.36801156  0.01597055 -0.58227254]\n",
      "1.0 False {}\n",
      "[-0.00240679  0.17266953  0.0043251  -0.28460173]\n",
      "1.0 False {}\n",
      "[ 0.0010466  -0.02251384 -0.00136693  0.00944216]\n",
      "1.0 False {}\n",
      "[ 0.00059633  0.17262769 -0.00117809 -0.28367173]\n",
      "1.0 False {}\n",
      "[ 0.00404888  0.36776642 -0.00685153 -0.57672599]\n",
      "1.0 False {}\n",
      "[ 0.01140421  0.56298374 -0.01838605 -0.87155942]\n",
      "1.0 False {}\n",
      "[ 0.02266388  0.75835086 -0.03581723 -1.16996576]\n",
      "1.0 False {}\n",
      "[ 0.0378309   0.56371258 -0.05921655 -0.88872361]\n",
      "1.0 False {}\n",
      "[ 0.04910515  0.759586   -0.07699102 -1.19941824]\n",
      "1.0 False {}\n",
      "[ 0.06429687  0.5655399  -0.10097939 -0.93182435]\n",
      "1.0 False {}\n",
      "[ 0.07560767  0.76186883 -0.11961587 -1.25445509]\n",
      "1.0 False {}\n",
      "[ 0.09084505  0.56846434 -0.14470498 -1.00150456]\n",
      "1.0 False {}\n",
      "[ 0.10221433  0.37554125 -0.16473507 -0.75753937]\n",
      "1.0 False {}\n",
      "[ 0.10972516  0.18302634 -0.17988585 -0.52088981]\n",
      "1.0 False {}\n",
      "[ 0.11338568 -0.00916826 -0.19030365 -0.28985143]\n",
      "1.0 False {}\n",
      "[ 0.11320232  0.18808557 -0.19610068 -0.63600278]\n",
      "1.0 False {}\n",
      "[ 0.11696403  0.38532354 -0.20882073 -0.98347407]\n",
      "1.0 False {}\n",
      "Episode finished after 21 timesteps\n",
      "[-0.02484755 -0.00532443  0.02684277 -0.01075278]\n",
      "None None None\n",
      "[-0.02495404  0.18940248  0.02662771 -0.29484709]\n",
      "1.0 False {}\n",
      "[-0.02116599  0.38413489  0.02073077 -0.57901454]\n",
      "1.0 False {}\n",
      "[-0.01348329  0.18872863  0.00915048 -0.27987373]\n",
      "1.0 False {}\n",
      "[-0.00970872  0.38371887  0.003553   -0.56965663]\n",
      "1.0 False {}\n",
      "[-0.00203434  0.18854726 -0.00784013 -0.2758565 ]\n",
      "1.0 False {}\n",
      "[ 0.0017366   0.38378019 -0.01335726 -0.57100186]\n",
      "1.0 False {}\n",
      "[ 0.0094122   0.18884807 -0.02477729 -0.28255669]\n",
      "1.0 False {}\n",
      "[ 0.01318917  0.38431451 -0.03042843 -0.58295013]\n",
      "1.0 False {}\n",
      "[ 0.02087546  0.18963178 -0.04208743 -0.30000579]\n",
      "1.0 False {}\n",
      "[ 0.02466809  0.38532757 -0.04808755 -0.60565958]\n",
      "1.0 False {}\n",
      "[ 0.03237464  0.58108781 -0.06020074 -0.91309278]\n",
      "1.0 False {}\n",
      "[ 0.0439964   0.38682965 -0.07846259 -0.63992173]\n",
      "1.0 False {}\n",
      "[ 0.05173299  0.19288423 -0.09126103 -0.37294297]\n",
      "1.0 False {}\n",
      "[ 0.05559068 -0.00083081 -0.09871989 -0.11037313]\n",
      "1.0 False {}\n",
      "[ 0.05557406  0.19555699 -0.10092735 -0.43249708]\n",
      "1.0 False {}\n",
      "[ 0.0594852   0.39195231 -0.10957729 -0.75521321]\n",
      "1.0 False {}\n",
      "[ 0.06732425  0.58840045 -0.12468156 -1.08026939]\n",
      "1.0 False {}\n",
      "[ 0.07909226  0.39512527 -0.14628694 -0.82916859]\n",
      "1.0 False {}\n",
      "[ 0.08699476  0.20227354 -0.16287032 -0.58583587]\n",
      "1.0 False {}\n",
      "[ 0.09104023  0.39925693 -0.17458703 -0.92507307]\n",
      "1.0 False {}\n",
      "[ 0.09902537  0.20686797 -0.19308849 -0.69194479]\n",
      "1.0 False {}\n",
      "[ 0.10316273  0.01487452 -0.20692739 -0.46572249]\n",
      "1.0 False {}\n",
      "Episode finished after 23 timesteps\n",
      "[-0.00491431  0.01611265  0.00863615 -0.00362475]\n",
      "None None None\n",
      "[-0.00459206 -0.17913208  0.00856366  0.29177043]\n",
      "1.0 False {}\n",
      "[-0.0081747  -0.37437509  0.01439907  0.58714188]\n",
      "1.0 False {}\n",
      "[-0.0156622  -0.56969571  0.0261419   0.88432562]\n",
      "1.0 False {}\n",
      "[-0.02705612 -0.37493829  0.04382842  0.59997415]\n",
      "1.0 False {}\n",
      "[-0.03455488 -0.57064513  0.0558279   0.90613392]\n",
      "1.0 False {}\n",
      "[-0.04596779 -0.37632174  0.07395058  0.63150785]\n",
      "1.0 False {}\n",
      "[-0.05349422 -0.57239333  0.08658073  0.94653306]\n",
      "1.0 False {}\n",
      "[-0.06494209 -0.37853735  0.1055114   0.68226126]\n",
      "1.0 False {}\n",
      "[-0.07251284 -0.57495406  0.11915662  1.00621068]\n",
      "1.0 False {}\n",
      "[-0.08401192 -0.38160735  0.13928083  0.75319629]\n",
      "1.0 False {}\n",
      "[-0.09164406 -0.18865245  0.15434476  0.50738307]\n",
      "1.0 False {}\n",
      "[-0.09541711 -0.38557379  0.16449242  0.84445113]\n",
      "1.0 False {}\n",
      "[-0.10312859 -0.58251216  0.18138144  1.18401413]\n",
      "1.0 False {}\n",
      "[-0.11477883 -0.3901461   0.20506173  0.9532328 ]\n",
      "1.0 False {}\n",
      "Episode finished after 15 timesteps\n",
      "[ 0.02990749 -0.0006149   0.03069398 -0.04455863]\n",
      "None None None\n",
      "[ 0.02989519  0.19405377  0.02980281 -0.32740149]\n",
      "1.0 False {}\n",
      "[ 0.03377627 -0.00147952  0.02325478 -0.02547106]\n",
      "1.0 False {}\n",
      "[ 0.03374668  0.19330135  0.02274536 -0.31072709]\n",
      "1.0 False {}\n",
      "[ 0.0376127  -0.00213715  0.01653082 -0.01095861]\n",
      "1.0 False {}\n",
      "[ 0.03756996 -0.19749222  0.01631164  0.28689381]\n",
      "1.0 False {}\n",
      "[ 0.03362012 -0.39284295  0.02204952  0.58467633]\n",
      "1.0 False {}\n",
      "[ 0.02576326 -0.58826672  0.03374305  0.88422276]\n",
      "1.0 False {}\n",
      "[ 0.01399792 -0.3936188   0.0514275   0.60233566]\n",
      "1.0 False {}\n",
      "[ 0.00612555 -0.19925248  0.06347422  0.32628466]\n",
      "1.0 False {}\n",
      "[ 0.0021405  -0.39521802  0.06999991  0.63828991]\n",
      "1.0 False {}\n",
      "[-0.00576386 -0.20113837  0.08276571  0.36844654]\n",
      "1.0 False {}\n",
      "[-0.00978663 -0.39733282  0.09013464  0.68603618]\n",
      "1.0 False {}\n",
      "[-0.01773329 -0.20357009  0.10385536  0.42303562]\n",
      "1.0 False {}\n",
      "[-0.02180469 -0.01006096  0.11231607  0.16481452]\n",
      "1.0 False {}\n",
      "[-0.02200591 -0.20659655  0.11561236  0.49071196]\n",
      "1.0 False {}\n",
      "[-0.02613784 -0.01327905  0.1254266   0.23658584]\n",
      "1.0 False {}\n",
      "[-0.02640342 -0.20994896  0.13015832  0.56605208]\n",
      "1.0 False {}\n",
      "[-0.0306024  -0.40663355  0.14147936  0.89674203]\n",
      "1.0 False {}\n",
      "[-0.03873507 -0.60336072  0.1594142   1.23034068]\n",
      "1.0 False {}\n",
      "[-0.05080229 -0.80013313  0.18402102  1.56842634]\n",
      "1.0 False {}\n",
      "Episode finished after 21 timesteps\n"
     ]
    }
   ],
   "source": [
    "for i_episode in range(20):\n",
    "    observation = env.reset()\n",
    "    reward = done = info = None\n",
    "    for t in range(100):\n",
    "        env.render()\n",
    "        print(observation)\n",
    "        print(reward, done, info)\n",
    "        action = env.action_space.sample()\n",
    "        observation, reward, done, info = env.step(action)\n",
    "#         print(\"Episode finished after {} timesteps\".format(t+1))\n",
    "        if done:\n",
    "            print(\"Episode finished after {} timesteps\".format(t+1))\n",
    "#             print()\n",
    "            break"
   ]
  },
  {
   "cell_type": "code",
   "execution_count": 91,
   "metadata": {
    "collapsed": false,
    "scrolled": true
   },
   "outputs": [
    {
     "name": "stdout",
     "output_type": "stream",
     "text": [
      "0 [ 0.03401155  0.21237046 -0.0385502  -0.29779375] 1.0\n",
      "1 [ 0.03825896  0.40802013 -0.04450608 -0.60238116] 1.0\n",
      "2 [ 0.04641936  0.21354804 -0.0565537  -0.32404235] 1.0\n",
      "3 [ 0.05069032  0.01927504 -0.06303455 -0.04971667] 1.0\n",
      "4 [ 0.05107582 -0.17488907 -0.06402888  0.22243119] 1.0\n",
      "5 [ 0.04757804 -0.36904019 -0.05958026  0.49424947] 1.0\n",
      "6 [ 0.04019723 -0.17313081 -0.04969527  0.18340059] 1.0\n",
      "7 [ 0.03673462  0.02266569 -0.04602726 -0.12453597] 1.0\n",
      "8 [ 0.03718793 -0.17176767 -0.04851797  0.15327796] 1.0\n",
      "9 [ 0.03375258 -0.36616255 -0.04545242  0.43026845] 1.0\n",
      "10 [ 0.02642933 -0.17042741 -0.03684705  0.12361057] 1.0\n",
      "11 [ 0.02302078 -0.36500263 -0.03437484  0.4044447 ] 1.0\n",
      "12 [ 0.01572073 -0.16941047 -0.02628594  0.10112557] 1.0\n",
      "13 [ 0.01233252  0.02607814 -0.02426343 -0.19973322] 1.0\n",
      "14 [ 0.01285408  0.22153857 -0.02825809 -0.49997031] 1.0\n",
      "15 [ 0.01728485  0.41704725 -0.0382575  -0.80142304] 1.0\n",
      "16 [ 0.0256258   0.61267243 -0.05428596 -1.10589105] 1.0\n",
      "17 [ 0.03787925  0.80846448 -0.07640378 -1.41509871] 1.0\n",
      "18 [ 0.05404854  1.00444524 -0.10470576 -1.7306531 ] 1.0\n",
      "19 [ 0.07413744  1.2005957  -0.13931882 -2.05399469] 1.0\n",
      "20 [ 0.09814935  1.39684143 -0.18039871 -2.38633847] 1.0\n",
      "21 [ 0.12608618  1.59303584 -0.22812548 -2.7286044 ] 1.0\n",
      "1 True {}\n",
      "22 [ 0.1579469   1.78894128 -0.28269757 -3.08133797] 0.0\n",
      "1 True {}\n",
      "23 [ 0.19372572  1.59617466 -0.34432433 -2.88567589] 0.0\n",
      "0 True {}\n",
      "24 [ 0.22564922  1.40446571 -0.40203785 -2.71423422] 0.0\n",
      "0 True {}\n",
      "25 [ 0.25373853  1.59975172 -0.45632253 -3.09884728] 0.0\n",
      "1 True {}\n",
      "0 [ 0.04730591  0.15003275 -0.0292733  -0.31403199] 1.0\n",
      "1 [ 0.05030657  0.34555921 -0.03555394 -0.61580115] 1.0\n",
      "2 [ 0.05721775  0.54115939 -0.04786997 -0.91946666] 1.0\n",
      "3 [ 0.06804094  0.34671603 -0.0662593  -0.64220413] 1.0\n",
      "4 [ 0.07497526  0.15257718 -0.07910338 -0.37110086] 1.0\n",
      "5 [ 0.07802681  0.34872863 -0.0865254  -0.68764012] 1.0\n",
      "6 [ 0.08500138  0.15490744 -0.1002782  -0.42340269] 1.0\n",
      "7 [ 0.08809953 -0.03866156 -0.10874626 -0.16394024] 1.0\n",
      "8 [ 0.0873263   0.1578355  -0.11202506 -0.48885317] 1.0\n",
      "9 [ 0.09048301 -0.03554249 -0.12180213 -0.23347093] 1.0\n",
      "10 [ 0.08977216  0.1610902  -0.12647154 -0.56195611] 1.0\n",
      "11 [ 0.09299396 -0.03205126 -0.13771067 -0.3116414 ] 1.0\n",
      "12 [ 0.09235293  0.16473643 -0.14394349 -0.64438751] 1.0\n",
      "13 [ 0.09564766 -0.0281173  -0.15683124 -0.40027205] 1.0\n",
      "14 [ 0.09508532 -0.2207074  -0.16483668 -0.16085194] 1.0\n",
      "15 [ 0.09067117 -0.02365641 -0.16805372 -0.50066476] 1.0\n",
      "16 [ 0.09019804 -0.21606038 -0.17806702 -0.26530019] 1.0\n",
      "17 [ 0.08587683 -0.40825318 -0.18337302 -0.03364492] 1.0\n",
      "18 [ 0.07771177 -0.60033672 -0.18404592  0.19603971] 1.0\n",
      "19 [ 0.06570504 -0.79241454 -0.18012513  0.42548597] 1.0\n",
      "20 [ 0.04985674 -0.98458907 -0.17161541  0.65641318] 1.0\n",
      "21 [ 0.03016496 -0.78754621 -0.15848714  0.31498304] 1.0\n",
      "22 [ 0.01441404 -0.98009743 -0.15218748  0.55378966] 1.0\n",
      "23 [-0.00518791 -0.7832029  -0.14111169  0.21729088] 1.0\n",
      "24 [-0.02085197 -0.97605522 -0.13676587  0.4623447 ] 1.0\n",
      "25 [-0.04037307 -1.16900611 -0.12751898  0.70898447] 1.0\n",
      "26 [-0.06375319 -0.97237017 -0.11333929  0.3790364 ] 1.0\n",
      "27 [-0.0832006  -0.77583645 -0.10575856  0.05287681] 1.0\n",
      "28 [-0.09871733 -0.57936953 -0.10470102 -0.2712121 ] 1.0\n",
      "29 [-0.11030472 -0.38292146 -0.11012527 -0.59499643] 1.0\n",
      "30 [-0.11796315 -0.5763438  -0.1220252  -0.33893187] 1.0\n",
      "31 [-0.12949002 -0.76953725 -0.12880383 -0.08708297] 1.0\n",
      "32 [-0.14488077 -0.57282685 -0.13054549 -0.41746803] 1.0\n",
      "33 [-0.1563373  -0.76588055 -0.13889485 -0.16862296] 1.0\n",
      "34 [-0.17165492 -0.56907204 -0.14226731 -0.50169663] 1.0\n",
      "35 [-0.18303636 -0.37226151 -0.15230124 -0.83561551] 1.0\n",
      "36 [-0.19048159 -0.17542381 -0.16901356 -1.172058  ] 1.0\n",
      "37 [-0.19399006  0.02144312 -0.19245471 -1.51260447] 1.0\n",
      "38 [-0.1935612  -0.17089847 -0.2227068  -1.28565174] 1.0\n",
      "0 True {}\n",
      "39 [-0.19697917 -0.36260292 -0.24841984 -1.07013269] 0.0\n",
      "0 True {}\n",
      "40 [-0.20423123 -0.16521089 -0.26982249 -1.42941802] 0.0\n",
      "1 True {}\n",
      "41 [-0.20753545 -0.35618675 -0.29841085 -1.23168774] 0.0\n",
      "0 True {}\n",
      "42 [-0.21465918 -0.54651004 -0.32304461 -1.04525633] 0.0\n",
      "0 True {}\n",
      "0 [ 0.00677383  0.24002433  0.02123468 -0.24997749] 1.0\n",
      "1 [ 0.01157432  0.43483671  0.01623513 -0.53588765] 1.0\n",
      "2 [ 0.02027105  0.62972665  0.00551737 -0.82341112] 1.0\n",
      "3 [ 0.03286559  0.43452966 -0.01095085 -0.52899799] 1.0\n",
      "4 [ 0.04155618  0.23956347 -0.02153081 -0.23978573] 1.0\n",
      "5 [ 0.04634745  0.04475561 -0.02632652  0.04602877] 1.0\n",
      "6 [ 0.04724256  0.24024498 -0.02540595 -0.25484278] 1.0\n",
      "7 [ 0.05204746  0.43572029 -0.0305028  -0.55542967] 1.0\n",
      "8 [ 0.06076187  0.24103959 -0.0416114  -0.27251089] 1.0\n",
      "9 [ 0.06558266  0.43672983 -0.04706161 -0.57802238] 1.0\n",
      "10 [ 0.07431726  0.24229797 -0.05862206 -0.3005285 ] 1.0\n",
      "11 [ 0.07916321  0.04805844 -0.06463263 -0.02689472] 1.0\n",
      "12 [ 0.08012438 -0.14607995 -0.06517053  0.24471607] 1.0\n",
      "13 [ 0.07720278  0.04990937 -0.06027621 -0.06779041] 1.0\n",
      "14 [ 0.07820097  0.24584139 -0.06163201 -0.37886516] 1.0\n",
      "15 [ 0.0831178   0.05164637 -0.06920932 -0.10623405] 1.0\n",
      "16 [ 0.08415073  0.24768836 -0.071334   -0.41992434] 1.0\n",
      "17 [ 0.08910449  0.05364584 -0.07973248 -0.1505552 ] 1.0\n",
      "18 [ 0.09017741  0.24981361 -0.08274359 -0.46728856] 1.0\n",
      "19 [ 0.09517368  0.0559522  -0.09208936 -0.2017902 ] 1.0\n",
      "20 [ 0.09629273 -0.13774031 -0.09612516  0.06048146] 1.0\n",
      "21 [ 0.09353792  0.05861905 -0.09491553 -0.26091514] 1.0\n",
      "22 [ 0.0947103  -0.13502886 -0.10013384  0.000386  ] 1.0\n",
      "23 [ 0.09200972 -0.3285828  -0.10012612  0.2598724 ] 1.0\n",
      "24 [ 0.08543807 -0.52214344 -0.09492867  0.5193713 ] 1.0\n",
      "25 [ 0.0749952  -0.71580977 -0.08454124  0.78069573] 1.0\n",
      "26 [ 0.060679   -0.90967411 -0.06892733  1.04562814] 1.0\n",
      "27 [ 0.04248552 -0.71370825 -0.04801477  0.73212875] 1.0\n",
      "28 [ 0.02821136 -0.51795685 -0.03337219  0.42472914] 1.0\n",
      "29 [ 0.01785222 -0.32237845 -0.02487761  0.12171528] 1.0\n",
      "30 [ 0.01140465 -0.12690908 -0.0224433  -0.17871132] 1.0\n",
      "31 [ 0.00886647  0.06852673 -0.02601753 -0.47838898] 1.0\n",
      "32 [ 0.010237    0.26400616 -0.03558531 -0.77915717] 1.0\n",
      "33 [ 0.01551713  0.45959884 -0.05116845 -1.08282032] 1.0\n",
      "34 [ 0.0247091   0.65535736 -0.07282486 -1.39111075] 1.0\n",
      "35 [ 0.03781625  0.46121397 -0.10064707 -1.12205914] 1.0\n",
      "36 [ 0.04704053  0.26754537 -0.12308826 -0.86256667] 1.0\n",
      "37 [ 0.05239144  0.07429494 -0.14033959 -0.61098081] 1.0\n",
      "38 [ 0.05387734 -0.11861542 -0.15255921 -0.36558469] 1.0\n",
      "39 [ 0.05150503  0.07830808 -0.1598709  -0.70221778] 1.0\n",
      "40 [ 0.05307119  0.2752422  -0.17391525 -1.04065403] 1.0\n",
      "41 [ 0.05857603  0.47219402 -0.19472834 -1.38249891] 1.0\n",
      "42 [ 0.06801991  0.66913822 -0.22237831 -1.72922092] 1.0\n",
      "1 True {}\n",
      "43 [ 0.08140268  0.47714134 -0.25696273 -1.51315899] 0.0\n",
      "0 True {}\n",
      "44 [ 0.09094551  0.67428898 -0.28722591 -1.87388922] 0.0\n",
      "1 True {}\n",
      "45 [ 0.10443129  0.48321496 -0.3247037  -1.68230777] 0.0\n",
      "0 True {}\n",
      "46 [ 0.11409558  0.29296521 -0.35834985 -1.50563953] 0.0\n",
      "0 True {}\n"
     ]
    }
   ],
   "source": [
    "for i_episode in range(3):\n",
    "    observation = env.reset()\n",
    "    reward = done = info = None\n",
    "    countdown = 5\n",
    "    for t in range(100):\n",
    "        env.render()\n",
    "\n",
    "        action = env.action_space.sample()\n",
    "        observation, reward, done, info = env.step(action)\n",
    "        print(t, observation, reward)\n",
    "\n",
    "        if done:\n",
    "            print(action, done, info)\n",
    "            countdown-=1\n",
    "#             input()\n",
    "        if countdown==0:\n",
    "            break"
   ]
  },
  {
   "cell_type": "code",
   "execution_count": 10,
   "metadata": {
    "collapsed": false
   },
   "outputs": [
    {
     "data": {
      "text/plain": [
       "[0]"
      ]
     },
     "execution_count": 10,
     "metadata": {},
     "output_type": "execute_result"
    }
   ],
   "source": []
  },
  {
   "cell_type": "code",
   "execution_count": 17,
   "metadata": {
    "collapsed": false
   },
   "outputs": [
    {
     "data": {
      "text/plain": [
       "(array([-0.44106971, -2.86785599,  0.67195203,  5.0451404 ]), 0.0, True, {})"
      ]
     },
     "execution_count": 17,
     "metadata": {},
     "output_type": "execute_result"
    }
   ],
   "source": [
    "env.seed(0)\n",
    "\n",
    "env.reset()\n",
    "\n",
    "for _ in range(15):\n",
    "    obs = env.step(0) # left\n",
    "    env.render()\n",
    "obs \n",
    "# for _ in range(30):\n",
    "#     env.step(1) # right\n",
    "#     env.render()\n",
    "    \n",
    "# for _ in range(30):\n",
    "#     env.step(0)\n",
    "#     env.render()\n",
    "    \n",
    "# for _ in range(45):\n",
    "#     env.step(1)\n",
    "#     env.render()\n",
    "    \n",
    "# for _ in range(15):\n",
    "#     env.step(0)\n",
    "#     env.render()\n",
    "    \n",
    "# for _ in range(15):\n",
    "#     env.step(1)\n",
    "#     env.render()\n",
    "    \n",
    "# for _ in range(15):\n",
    "#     env.step(0)\n",
    "#     env.render()\n",
    "    \n",
    "# for _ in range(15):\n",
    "#     obs = env.step(1)\n",
    "#     env.render()"
   ]
  },
  {
   "cell_type": "code",
   "execution_count": 28,
   "metadata": {
    "collapsed": false
   },
   "outputs": [
    {
     "data": {
      "text/plain": [
       "(array([-1.24851796, -4.4829136 ,  2.18500641,  8.62820657]), 0.0, True, {})"
      ]
     },
     "execution_count": 28,
     "metadata": {},
     "output_type": "execute_result"
    }
   ],
   "source": [
    "obs = env.step(0) # left\n",
    "env.render()\n",
    "obs "
   ]
  },
  {
   "cell_type": "code",
   "execution_count": 76,
   "metadata": {
    "collapsed": false
   },
   "outputs": [
    {
     "data": {
      "text/plain": [
       "(array([ -0.49487191,   4.87669402,  32.27984082,   8.01420015]),\n",
       " 0.0,\n",
       " True,\n",
       " {})"
      ]
     },
     "execution_count": 76,
     "metadata": {},
     "output_type": "execute_result"
    }
   ],
   "source": [
    "for _ in range(5):\n",
    "    obs = env.step(1) # right\n",
    "    env.render()\n",
    "obs "
   ]
  },
  {
   "cell_type": "code",
   "execution_count": 75,
   "metadata": {
    "collapsed": false
   },
   "outputs": [
    {
     "data": {
      "text/plain": [
       "(array([  5.71736213,   5.00742197,  31.3900876 ,  10.13298875]),\n",
       " 0.0,\n",
       " True,\n",
       " {})"
      ]
     },
     "execution_count": 75,
     "metadata": {},
     "output_type": "execute_result"
    }
   ],
   "source": [
    "obs"
   ]
  },
  {
   "cell_type": "code",
   "execution_count": 76,
   "metadata": {
    "collapsed": false
   },
   "outputs": [
    {
     "data": {
      "text/plain": [
       "array([  4.80000000e+00,   3.40282347e+38,   4.18879020e-01,\n",
       "         3.40282347e+38])"
      ]
     },
     "execution_count": 76,
     "metadata": {},
     "output_type": "execute_result"
    }
   ],
   "source": [
    "env.observation_space.high"
   ]
  },
  {
   "cell_type": "code",
   "execution_count": 77,
   "metadata": {
    "collapsed": false
   },
   "outputs": [
    {
     "data": {
      "text/plain": [
       "array([ -4.80000000e+00,  -3.40282347e+38,  -4.18879020e-01,\n",
       "        -3.40282347e+38])"
      ]
     },
     "execution_count": 77,
     "metadata": {},
     "output_type": "execute_result"
    }
   ],
   "source": [
    "env.observation_space.low"
   ]
  },
  {
   "cell_type": "code",
   "execution_count": 79,
   "metadata": {
    "collapsed": true
   },
   "outputs": [],
   "source": [
    "env = gym.make('CartPole-v0').unwrapped"
   ]
  },
  {
   "cell_type": "code",
   "execution_count": 82,
   "metadata": {
    "collapsed": false
   },
   "outputs": [
    {
     "data": {
      "text/plain": [
       "<gym.envs.classic_control.cartpole.CartPoleEnv at 0x7f80f0106048>"
      ]
     },
     "execution_count": 82,
     "metadata": {},
     "output_type": "execute_result"
    }
   ],
   "source": [
    "env.unwrapped"
   ]
  },
  {
   "cell_type": "code",
   "execution_count": null,
   "metadata": {
    "collapsed": true
   },
   "outputs": [],
   "source": []
  }
 ],
 "metadata": {
  "kernelspec": {
   "display_name": "Python 3",
   "language": "python",
   "name": "python3"
  },
  "language_info": {
   "codemirror_mode": {
    "name": "ipython",
    "version": 3
   },
   "file_extension": ".py",
   "mimetype": "text/x-python",
   "name": "python",
   "nbconvert_exporter": "python",
   "pygments_lexer": "ipython3",
   "version": "3.5.2"
  }
 },
 "nbformat": 4,
 "nbformat_minor": 0
}
