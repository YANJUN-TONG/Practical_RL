{
 "cells": [
  {
   "cell_type": "code",
   "execution_count": 1,
   "metadata": {
    "collapsed": true
   },
   "outputs": [],
   "source": [
    "# import os\n",
    "# os.environ[\"CUDA_VISIBLE_DEVICES\"]=\"1\""
   ]
  },
  {
   "cell_type": "code",
   "execution_count": 2,
   "metadata": {
    "collapsed": true
   },
   "outputs": [],
   "source": [
    "import gym\n",
    "import torch"
   ]
  },
  {
   "cell_type": "code",
   "execution_count": 3,
   "metadata": {
    "collapsed": false
   },
   "outputs": [
    {
     "name": "stdout",
     "output_type": "stream",
     "text": [
      "add code root path (with `rllib`).\n"
     ]
    }
   ],
   "source": [
    "import _init_paths"
   ]
  },
  {
   "cell_type": "code",
   "execution_count": 4,
   "metadata": {
    "collapsed": true
   },
   "outputs": [],
   "source": [
    "from rllib.models import ConvNet\n",
    "from rllib.reinforce import REINFORCE"
   ]
  },
  {
   "cell_type": "code",
   "execution_count": 5,
   "metadata": {
    "collapsed": true
   },
   "outputs": [],
   "source": [
    "downsample = 2\n",
    "output_size = 160//downsample\n",
    "\n",
    "def preprocess(frame):\n",
    "    '''from karpathy.'''\n",
    "    I = frame\n",
    "    I = I[35:195] # crop\n",
    "    I = I[::downsample,::downsample,0] # downsample by factor of 2\n",
    "    I[I == 144] = 0 # erase background (background type 1)\n",
    "    I[I == 109] = 0 # erase background (background type 2)\n",
    "    I[I != 0] = 1 # everything else (paddles, ball) just set to 1\n",
    "    tensor = torch.from_numpy(I).float()\n",
    "    return tensor.unsqueeze(0).unsqueeze(0) #BCHW"
   ]
  },
  {
   "cell_type": "code",
   "execution_count": 6,
   "metadata": {
    "collapsed": false
   },
   "outputs": [
    {
     "name": "stdout",
     "output_type": "stream",
     "text": [
      "Initialized Conv2d(1, 32, kernel_size=(8, 8), stride=(4, 4))\n",
      "Initialized Conv2d(32, 64, kernel_size=(4, 4), stride=(2, 2))\n",
      "Initialized Conv2d(64, 64, kernel_size=(3, 3), stride=(1, 1))\n",
      "Initialized Linear(in_features=2304, out_features=512, bias=True)\n",
      "Initialized Linear(in_features=512, out_features=6, bias=True)\n",
      "Network size: 1255078\n",
      "ConvNet(\n",
      "  (conv): Sequential(\n",
      "    (0): Conv2d(1, 32, kernel_size=(8, 8), stride=(4, 4))\n",
      "    (1): ReLU()\n",
      "    (2): Conv2d(32, 64, kernel_size=(4, 4), stride=(2, 2))\n",
      "    (3): ReLU()\n",
      "    (4): Conv2d(64, 64, kernel_size=(3, 3), stride=(1, 1))\n",
      "    (5): ReLU()\n",
      "  )\n",
      "  (fc): Sequential(\n",
      "    (0): Linear(in_features=2304, out_features=512, bias=True)\n",
      "    (1): ReLU()\n",
      "    (2): Linear(in_features=512, out_features=6, bias=True)\n",
      "  )\n",
      ")\n"
     ]
    }
   ],
   "source": [
    "env = gym.make(\"Pong-v0\")\n",
    "\n",
    "net = ConvNet(input_shape=(1,output_size,output_size), action_n=env.action_space.n)\n",
    "print(net)\n",
    "\n",
    "agent = REINFORCE(model=net, gamma=0.99, learning_rate=1.e-3, batch_size=10)"
   ]
  },
  {
   "cell_type": "code",
   "execution_count": 7,
   "metadata": {
    "collapsed": true
   },
   "outputs": [],
   "source": [
    "weights_path = \"best.pth\"\n",
    "if torch.cuda.is_available():\n",
    "    net = net.cuda()\n",
    "    weights = torch.load(weights_path)\n",
    "else:\n",
    "    weights = torch.load(weights_path, map_location={'cuda:0': 'cpu'})\n",
    "net.load_state_dict(weights)"
   ]
  },
  {
   "cell_type": "code",
   "execution_count": 8,
   "metadata": {
    "collapsed": false
   },
   "outputs": [
    {
     "name": "stdout",
     "output_type": "stream",
     "text": [
      "0 -16.0\n",
      "1 -19.0\n",
      "2 -19.0\n",
      "3 -19.0\n",
      "4 -19.0\n",
      "5 -19.0\n",
      "6 -15.0\n",
      "7 -19.0\n",
      "8 -18.0\n",
      "9 -21.0\n"
     ]
    }
   ],
   "source": [
    "for episode in range(10):\n",
    "    frame = env.reset()\n",
    "    last_obs = preprocess(frame)\n",
    "    curr_obs = preprocess(frame)\n",
    "    total_reward = 0\n",
    "    for step in range(100000): # not exceed 10000 steps\n",
    "        action = agent.play(curr_obs-last_obs)\n",
    "        frame, reward, done, _ = env.step(action)\n",
    "        env.render()\n",
    "        last_obs = curr_obs\n",
    "        curr_obs = preprocess(frame)\n",
    "        total_reward+=reward\n",
    "        if done:\n",
    "             break\n",
    "    print(episode, total_reward)"
   ]
  },
  {
   "cell_type": "code",
   "execution_count": null,
   "metadata": {
    "collapsed": true
   },
   "outputs": [],
   "source": []
  }
 ],
 "metadata": {
  "kernelspec": {
   "display_name": "Python 3",
   "language": "python",
   "name": "python3"
  },
  "language_info": {
   "codemirror_mode": {
    "name": "ipython",
    "version": 3
   },
   "file_extension": ".py",
   "mimetype": "text/x-python",
   "name": "python",
   "nbconvert_exporter": "python",
   "pygments_lexer": "ipython3",
   "version": "3.5.2"
  }
 },
 "nbformat": 4,
 "nbformat_minor": 0
}
