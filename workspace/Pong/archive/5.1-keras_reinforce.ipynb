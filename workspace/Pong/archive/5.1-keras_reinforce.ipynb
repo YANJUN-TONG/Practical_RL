{
 "cells": [
  {
   "cell_type": "code",
   "execution_count": 1,
   "metadata": {
    "collapsed": true
   },
   "outputs": [],
   "source": [
    "import os\n",
    "os.environ['CUDA_VISIBLE_DEVICES']='0'"
   ]
  },
  {
   "cell_type": "code",
   "execution_count": 2,
   "metadata": {
    "collapsed": true
   },
   "outputs": [],
   "source": [
    "import tensorflow as tf\n",
    "config = tf.ConfigProto(allow_soft_placement=True)\n",
    "config.gpu_options.allow_growth = True\n",
    "sess = tf.Session(config=config)"
   ]
  },
  {
   "cell_type": "code",
   "execution_count": 3,
   "metadata": {
    "collapsed": false
   },
   "outputs": [
    {
     "name": "stderr",
     "output_type": "stream",
     "text": [
      "Using TensorFlow backend.\n"
     ]
    }
   ],
   "source": [
    "from keras.backend import set_session\n",
    "set_session(sess)"
   ]
  },
  {
   "cell_type": "code",
   "execution_count": 4,
   "metadata": {
    "collapsed": false
   },
   "outputs": [],
   "source": [
    "import gym\n",
    "import numpy as np\n",
    "import time\n",
    "from keras.models import Sequential\n",
    "from keras.layers import Dense, Reshape, Flatten\n",
    "from keras.optimizers import Adam\n",
    "from keras.layers.convolutional import Convolution2D"
   ]
  },
  {
   "cell_type": "code",
   "execution_count": 5,
   "metadata": {
    "collapsed": true
   },
   "outputs": [],
   "source": [
    "class PGAgent:\n",
    "    def __init__(self, state_size, action_size):\n",
    "        self.state_size = state_size\n",
    "        self.action_size = action_size\n",
    "        self.gamma = 0.99\n",
    "        self.learning_rate = 0.0001\n",
    "        self.states = []\n",
    "        self.gradients = []\n",
    "        self.rewards = []\n",
    "        self.probs = []\n",
    "        self.model = self._build_model()\n",
    "        self.model.summary()\n",
    "\n",
    "    def _build_model(self):\n",
    "        model = Sequential()\n",
    "        model.add(Reshape((80, 80, 1), input_shape=(self.state_size,)))\n",
    "        \n",
    "        ############ large as DQN (fail in my implement)\n",
    "#         model.add(Convolution2D(16,kernel_size=8,strides=1,activation='relu'))\n",
    "#         model.add(Convolution2D(32,kernel_size=4,strides=1,activation='relu'))\n",
    "#         model.add(Flatten())    \n",
    "#         model.add(Dense(256, activation='relu'))\n",
    "        ############\n",
    "        \n",
    "        ############ my\n",
    "#         model.add(Convolution2D(16,kernel_size=8,strides=2,activation='relu'))\n",
    "#         model.add(Convolution2D(32,kernel_size=4,strides=2,activation='relu'))\n",
    "#         model.add(Flatten())        \n",
    "        ############\n",
    "        \n",
    "        ############ original\n",
    "        model.add(Convolution2D(32, 6, 6, subsample=(3, 3), border_mode='same',\n",
    "                                activation='relu', init='he_uniform'))\n",
    "        model.add(Flatten())\n",
    "        model.add(Dense(64, activation='relu', init='he_uniform'))\n",
    "        model.add(Dense(32, activation='relu', init='he_uniform'))\n",
    "        ############\n",
    "        model.add(Dense(self.action_size, activation='softmax'))\n",
    "        opt = Adam(lr=self.learning_rate)\n",
    "        model.compile(loss='categorical_crossentropy', optimizer=opt)\n",
    "        return model\n",
    "\n",
    "    def remember(self, state, action, prob, reward):\n",
    "        y = np.zeros([self.action_size])\n",
    "        y[action] = 1\n",
    "        self.gradients.append(np.array(y).astype('float32') - prob)\n",
    "        self.states.append(state)\n",
    "        self.rewards.append(reward)\n",
    "\n",
    "    def act(self, state):\n",
    "        state = state.reshape([1, state.shape[0]])\n",
    "        aprob = self.model.predict(state, batch_size=1).flatten()\n",
    "        self.probs.append(aprob)\n",
    "        prob = aprob / np.sum(aprob)\n",
    "        action = np.random.choice(self.action_size, 1, p=prob)[0]\n",
    "        return action, prob\n",
    "\n",
    "    def discount_rewards(self, rewards):\n",
    "        discounted_rewards = np.zeros_like(rewards)\n",
    "        running_add = 0\n",
    "        for t in reversed(range(0, rewards.size)):\n",
    "            if rewards[t] != 0:\n",
    "                running_add = 0\n",
    "            running_add = running_add * self.gamma + rewards[t]\n",
    "            discounted_rewards[t] = running_add\n",
    "        return discounted_rewards\n",
    "\n",
    "    def train(self):\n",
    "        gradients = np.vstack(self.gradients)\n",
    "        rewards = np.vstack(self.rewards)\n",
    "        rewards = self.discount_rewards(rewards)\n",
    "        rewards = rewards / np.std(rewards - np.mean(rewards))\n",
    "        gradients *= rewards\n",
    "        X = np.squeeze(np.vstack([self.states]))\n",
    "        Y = self.probs + self.learning_rate * np.squeeze(np.vstack([gradients]))\n",
    "        self.model.train_on_batch(X, Y)\n",
    "        self.states, self.probs, self.gradients, self.rewards = [], [], [], []\n",
    "\n",
    "    def load(self, name):\n",
    "        self.model.load_weights(name)\n",
    "\n",
    "    def save(self, name):\n",
    "        self.model.save_weights(name)"
   ]
  },
  {
   "cell_type": "code",
   "execution_count": null,
   "metadata": {
    "collapsed": true
   },
   "outputs": [],
   "source": [
    "def preprocess(I):\n",
    "    I = I[35:195]\n",
    "    I = I[::2, ::2, 0]\n",
    "    I[I == 144] = 0\n",
    "    I[I == 109] = 0\n",
    "    I[I != 0] = 1\n",
    "    return I.astype(np.float).ravel()"
   ]
  },
  {
   "cell_type": "code",
   "execution_count": null,
   "metadata": {
    "collapsed": false,
    "scrolled": true
   },
   "outputs": [
    {
     "name": "stderr",
     "output_type": "stream",
     "text": [
      "[2018-01-08 20:31:12,507] Making new env: Pong-v0\n",
      "/home/jiancheng/install/anaconda3/lib/python3.5/site-packages/ipykernel/__main__.py:33: UserWarning: Update your `Conv2D` call to the Keras 2 API: `Conv2D(32, (6, 6), padding=\"same\", kernel_initializer=\"he_uniform\", strides=(3, 3), activation=\"relu\")`\n",
      "/home/jiancheng/install/anaconda3/lib/python3.5/site-packages/ipykernel/__main__.py:35: UserWarning: Update your `Dense` call to the Keras 2 API: `Dense(64, kernel_initializer=\"he_uniform\", activation=\"relu\")`\n",
      "/home/jiancheng/install/anaconda3/lib/python3.5/site-packages/ipykernel/__main__.py:36: UserWarning: Update your `Dense` call to the Keras 2 API: `Dense(32, kernel_initializer=\"he_uniform\", activation=\"relu\")`\n"
     ]
    },
    {
     "name": "stdout",
     "output_type": "stream",
     "text": [
      "_________________________________________________________________\n",
      "Layer (type)                 Output Shape              Param #   \n",
      "=================================================================\n",
      "reshape_1 (Reshape)          (None, 80, 80, 1)         0         \n",
      "_________________________________________________________________\n",
      "conv2d_1 (Conv2D)            (None, 27, 27, 32)        1184      \n",
      "_________________________________________________________________\n",
      "flatten_1 (Flatten)          (None, 23328)             0         \n",
      "_________________________________________________________________\n",
      "dense_1 (Dense)              (None, 64)                1493056   \n",
      "_________________________________________________________________\n",
      "dense_2 (Dense)              (None, 32)                2080      \n",
      "_________________________________________________________________\n",
      "dense_3 (Dense)              (None, 6)                 198       \n",
      "=================================================================\n",
      "Total params: 1,496,518\n",
      "Trainable params: 1,496,518\n",
      "Non-trainable params: 0\n",
      "_________________________________________________________________\n",
      "Episode: 1 - Score: -21.000000. use 6.27s, totally 6.27s\n",
      "Episode: 2 - Score: -20.000000. use 4.15s, totally 10.42s\n",
      "Episode: 3 - Score: -20.000000. use 5.27s, totally 15.70s\n",
      "Episode: 4 - Score: -16.000000. use 5.60s, totally 21.30s\n",
      "Episode: 5 - Score: -21.000000. use 5.55s, totally 26.85s\n",
      "Episode: 6 - Score: -20.000000. use 6.47s, totally 33.33s\n",
      "Episode: 7 - Score: -21.000000. use 3.87s, totally 37.20s\n",
      "Episode: 8 - Score: -21.000000. use 3.83s, totally 41.03s\n",
      "Episode: 9 - Score: -21.000000. use 4.46s, totally 45.49s\n",
      "Episode: 10 - Score: -20.000000. use 4.71s, totally 50.20s\n",
      "Episode: 11 - Score: -21.000000. use 4.81s, totally 55.01s\n",
      "Episode: 12 - Score: -21.000000. use 5.21s, totally 60.22s\n",
      "Episode: 13 - Score: -21.000000. use 4.26s, totally 64.48s\n",
      "Episode: 14 - Score: -21.000000. use 3.75s, totally 68.24s\n"
     ]
    }
   ],
   "source": [
    "env = gym.make(\"Pong-v0\")\n",
    "state = env.reset()\n",
    "prev_x = None\n",
    "score = 0\n",
    "episode = 0\n",
    "\n",
    "state_size = 80 * 80\n",
    "action_size = env.action_space.n\n",
    "agent = PGAgent(state_size, action_size)\n",
    "# agent.load('pong.h5')\n",
    "start_time = time.time()\n",
    "now = start_time\n",
    "while True:\n",
    "#     env.render()\n",
    "\n",
    "    cur_x = preprocess(state)\n",
    "    x = cur_x - prev_x if prev_x is not None else np.zeros(state_size)\n",
    "    prev_x = cur_x\n",
    "\n",
    "    action, prob = agent.act(x)\n",
    "    state, reward, done, info = env.step(action)\n",
    "    score += reward\n",
    "    agent.remember(x, action, prob, reward)\n",
    "\n",
    "    if done:\n",
    "        episode += 1\n",
    "        agent.train()\n",
    "        print('Episode: %d - Score: %f. use %.2fs, totally %.2fs' % (episode, score, time.time()-now, time.time()-start_time))\n",
    "        now = time.time()\n",
    "        score = 0\n",
    "        state = env.reset()\n",
    "        prev_x = None\n",
    "        if episode > 1 and episode % 10 == 0:\n",
    "            agent.save('pong.h5')"
   ]
  },
  {
   "cell_type": "code",
   "execution_count": null,
   "metadata": {
    "collapsed": true
   },
   "outputs": [],
   "source": []
  }
 ],
 "metadata": {
  "kernelspec": {
   "display_name": "Python 3",
   "language": "python",
   "name": "python3"
  },
  "language_info": {
   "codemirror_mode": {
    "name": "ipython",
    "version": 3
   },
   "file_extension": ".py",
   "mimetype": "text/x-python",
   "name": "python",
   "nbconvert_exporter": "python",
   "pygments_lexer": "ipython3",
   "version": "3.5.2"
  }
 },
 "nbformat": 4,
 "nbformat_minor": 0
}
