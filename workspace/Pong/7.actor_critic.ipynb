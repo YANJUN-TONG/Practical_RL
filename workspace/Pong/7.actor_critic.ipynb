{
 "cells": [
  {
   "cell_type": "code",
   "execution_count": 1,
   "metadata": {
    "collapsed": true
   },
   "outputs": [],
   "source": [
    "import os\n",
    "os.environ[\"CUDA_VISIBLE_DEVICES\"]=\"1\""
   ]
  },
  {
   "cell_type": "code",
   "execution_count": 2,
   "metadata": {
    "collapsed": true
   },
   "outputs": [],
   "source": [
    "from tqdm import trange\n",
    "import itertools\n",
    "import gym\n",
    "import torch"
   ]
  },
  {
   "cell_type": "code",
   "execution_count": 3,
   "metadata": {
    "collapsed": false
   },
   "outputs": [
    {
     "name": "stdout",
     "output_type": "stream",
     "text": [
      "add code root path (with `rllib`).\n"
     ]
    }
   ],
   "source": [
    "import _init_paths"
   ]
  },
  {
   "cell_type": "code",
   "execution_count": 4,
   "metadata": {
    "collapsed": false
   },
   "outputs": [],
   "source": [
    "from rllib.models import ConvNetPV\n",
    "from rllib.misc import EnhancedWriter\n",
    "from rllib.actor_critic import ActorCritic"
   ]
  },
  {
   "cell_type": "code",
   "execution_count": 5,
   "metadata": {
    "collapsed": true
   },
   "outputs": [],
   "source": [
    "downsample = 2\n",
    "output_size = 160//downsample\n",
    "\n",
    "def preprocess(frame):\n",
    "    '''from karpathy.'''\n",
    "    I = frame\n",
    "    I = I[35:195] # crop\n",
    "    I = I[::downsample,::downsample,0] # downsample by factor of 2\n",
    "    I[I == 144] = 0 # erase background (background type 1)\n",
    "    I[I == 109] = 0 # erase background (background type 2)\n",
    "    I[I != 0] = 1 # everything else (paddles, ball) just set to 1\n",
    "    tensor = torch.Tensor(I)\n",
    "    return tensor.unsqueeze(0) #CHW"
   ]
  },
  {
   "cell_type": "code",
   "execution_count": 6,
   "metadata": {
    "collapsed": false,
    "scrolled": true
   },
   "outputs": [
    {
     "name": "stderr",
     "output_type": "stream",
     "text": [
      "[2018-01-10 02:06:55,479] Making new env: Pong-v0\n"
     ]
    },
    {
     "name": "stdout",
     "output_type": "stream",
     "text": [
      "Initialized Conv2d(1, 32, kernel_size=(8, 8), stride=(4, 4))\n",
      "Initialized Conv2d(32, 64, kernel_size=(4, 4), stride=(2, 2))\n",
      "Initialized Conv2d(64, 64, kernel_size=(3, 3), stride=(1, 1))\n",
      "Initialized Linear(in_features=2304, out_features=512, bias=True)\n",
      "Initialized Linear(in_features=512, out_features=6, bias=True)\n",
      "Initialized Linear(in_features=512, out_features=1, bias=True)\n",
      "Network size: 1255591\n",
      "ConvNetPV(\n",
      "  (conv): Sequential(\n",
      "    (0): Conv2d(1, 32, kernel_size=(8, 8), stride=(4, 4))\n",
      "    (1): ReLU()\n",
      "    (2): Conv2d(32, 64, kernel_size=(4, 4), stride=(2, 2))\n",
      "    (3): ReLU()\n",
      "    (4): Conv2d(64, 64, kernel_size=(3, 3), stride=(1, 1))\n",
      "    (5): ReLU()\n",
      "  )\n",
      "  (fc): Sequential(\n",
      "    (0): Linear(in_features=2304, out_features=512, bias=True)\n",
      "    (1): ReLU()\n",
      "  )\n",
      "  (policy_head): Linear(in_features=512, out_features=6, bias=True)\n",
      "  (value_head): Linear(in_features=512, out_features=1, bias=True)\n",
      ")\n"
     ]
    }
   ],
   "source": [
    "env = gym.make(\"Pong-v0\")\n",
    "\n",
    "net = ConvNetPV(input_shape=(1,output_size,output_size), action_n=env.action_space.n)\n",
    "print(net)\n",
    "if torch.cuda.is_available():\n",
    "    net = net.cuda()\n",
    "\n",
    "agent = ActorCritic(model=net, gamma=0.99, learning_rate=1.e-3, batch_size=10)\n",
    "writer = EnhancedWriter()"
   ]
  },
  {
   "cell_type": "code",
   "execution_count": null,
   "metadata": {
    "collapsed": false
   },
   "outputs": [],
   "source": [
    "# net.load_state_dict(torch.load('runs/Jan08_15-07-08_amax/episode9100.pth'))"
   ]
  },
  {
   "cell_type": "code",
   "execution_count": null,
   "metadata": {
    "collapsed": false,
    "scrolled": true
   },
   "outputs": [
    {
     "name": "stderr",
     "output_type": "stream",
     "text": [
      "  0%|          | 1/100000 [00:04<112:05:44,  4.04s/it]"
     ]
    }
   ],
   "source": [
    "running_reward = best_reward = -21\n",
    "\n",
    "for episode in trange(100000):\n",
    "    frame = env.reset()\n",
    "    last_obs = preprocess(frame)\n",
    "    curr_obs = preprocess(frame)\n",
    "    for step in itertools.count(start=1, step=1):\n",
    "        action, log_prob, state_value = agent.select_action(obs=curr_obs-last_obs)\n",
    "        frame, reward, done, _ = env.step(action)\n",
    "        agent.keep_for_grad(log_prob, state_value, reward)\n",
    "        last_obs = curr_obs\n",
    "        curr_obs = preprocess(frame)\n",
    "        if step>=50000: # don't exceed\n",
    "            print(\"Seems much but not enough\")\n",
    "            break\n",
    "        if done:\n",
    "             break\n",
    "    agent.step() \n",
    "    \n",
    "    total_reward, n_round, policy_loss, value_loss = agent.history[-1]\n",
    "    writer.add_scalar(\"reward\",total_reward,episode)\n",
    "    writer.add_scalar(\"n_round\",n_round,episode)\n",
    "    writer.add_scalar(\"policy_loss\",policy_loss,episode)\n",
    "    writer.add_scalar(\"value_loss\",value_loss,episode)\n",
    "    \n",
    "    if total_reward>best_reward:\n",
    "        print(\"New record:\", total_reward)\n",
    "        best_reward=total_reward\n",
    "        writer.save(net, \"best.pth\")\n",
    "    \n",
    "    count_gamma = 0.5\n",
    "    running_reward = count_gamma*running_reward+(1-count_gamma)*total_reward\n",
    "    if (episode+1)%100==0:\n",
    "        print(episode, total_reward, running_reward)\n",
    "        writer.save(net, \"episode%s.pth\"%episode)\n",
    "    if running_reward>1:\n",
    "        break\n",
    "        \n",
    "writer.save(net, \"final.pth\")\n",
    "writer.export_logs()\n",
    "print(\"Finished: %s@%s\" %(agent.history[-1],episode))"
   ]
  },
  {
   "cell_type": "code",
   "execution_count": null,
   "metadata": {
    "collapsed": true
   },
   "outputs": [],
   "source": []
  }
 ],
 "metadata": {
  "kernelspec": {
   "display_name": "Python 3",
   "language": "python",
   "name": "python3"
  },
  "language_info": {
   "codemirror_mode": {
    "name": "ipython",
    "version": 3
   },
   "file_extension": ".py",
   "mimetype": "text/x-python",
   "name": "python",
   "nbconvert_exporter": "python",
   "pygments_lexer": "ipython3",
   "version": "3.5.2"
  }
 },
 "nbformat": 4,
 "nbformat_minor": 0
}
